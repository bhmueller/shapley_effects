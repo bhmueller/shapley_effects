{
 "cells": [
  {
   "cell_type": "markdown",
   "metadata": {},
   "source": [
    "## Tests for linear case with three Gaussian inputs\n",
    "Exact permutation"
   ]
  },
  {
   "cell_type": "code",
   "execution_count": 19,
   "metadata": {},
   "outputs": [],
   "source": [
    "    var_1 = 1\n",
    "    var_2 = 1\n",
    "    var_3 = 4\n",
    "    \n",
    "    # rho is the correlation coefficient, and thus, in range [-1,1]. Correlation between X2 and X3 only, i.e. rho = Corr[X2, X3].\n",
    "    rho = 0.3\n",
    "    covariance = rho * np.sqrt(var_2) * np.sqrt(var_3)\n",
    "    beta_1 = 1\n",
    "    beta_2 = 1\n",
    "    beta_3 = 1\n",
    "\n",
    "    component_1 = beta_1 ** 2 * var_1\n",
    "    component_2 = beta_2 ** 2 * var_2\n",
    "    component_3 = beta_3 ** 2 * var_3\n",
    "    var_y = component_1 + component_2 + component_3 + 2 * covariance * beta_2 * beta_3\n",
    "    share = 0.5 * (rho ** 2)\n",
    "    true_shapley_1 = (component_1)/(component_1 + component_2 + component_3 + 2 * covariance * beta_2 * beta_3)\n",
    "    true_shapley_2 = (component_2 + covariance * beta_2 * beta_3 + share * (component_3 - component_2))/(component_1 + component_2 + component_3 + 2 * covariance * beta_2 * beta_3)\n",
    "    true_shapley_3 = (component_3 + covariance * beta_2 * beta_3 + share * (component_2 - component_1))/(component_1 + component_2 + component_3 + 2 * covariance * beta_2 * beta_3)"
   ]
  },
  {
   "cell_type": "code",
   "execution_count": 20,
   "metadata": {},
   "outputs": [
    {
     "data": {
      "text/plain": [
       "1.0187499999999998"
      ]
     },
     "execution_count": 20,
     "metadata": {},
     "output_type": "execute_result"
    }
   ],
   "source": [
    "true_shapley_1 + true_shapley_2 + true_shapley_3"
   ]
  },
  {
   "cell_type": "code",
   "execution_count": 2,
   "metadata": {},
   "outputs": [
    {
     "data": {
      "text/plain": [
       "0.012425087437375915"
      ]
     },
     "execution_count": 2,
     "metadata": {},
     "output_type": "execute_result"
    }
   ],
   "source": [
    "    var_1 = 16\n",
    "    var_2 = 4\n",
    "    var_3 = 9\n",
    "    \n",
    "    # rho is the correlation coefficient, and thus, in range [-1,1]. Correlation between X2 and X3 only, i.e. rho = Corr[X2, X3].\n",
    "    rho = 0.3\n",
    "    covariance = rho * 2 * 3\n",
    "    beta_1 = 1.3\n",
    "    beta_2 = 1.5\n",
    "    beta_3 = 2.5\n",
    "\n",
    "    component_1 = beta_1 ** 2 * var_1\n",
    "    component_2 = beta_2 ** 2 * var_2\n",
    "    component_3 = beta_3 ** 2 * var_3\n",
    "    var_y = component_1 + component_2 + component_3 + 2 * covariance * beta_2 * beta_3\n",
    "    share = 0.5 * (rho**2)\n",
    "    true_shapley_1 = (component_1)/var_y\n",
    "    true_shapley_2 = (component_2 + covariance * beta_2 * beta_3 + share * (component_3 - component_2))/var_y\n",
    "    true_shapley_3 = (component_3 + covariance * beta_2 * beta_3 + share * (component_2 - component_1))/var_y\n",
    "    \n",
    "    true_shapley_1 + true_shapley_2 + true_shapley_3 - 1.0"
   ]
  },
  {
   "cell_type": "code",
   "execution_count": 6,
   "metadata": {},
   "outputs": [
    {
     "data": {
      "text/plain": [
       "0.04037756533463899"
      ]
     },
     "execution_count": 6,
     "metadata": {},
     "output_type": "execute_result"
    }
   ],
   "source": [
    "    def linear_model(x):\n",
    "        beta = np.array([[beta_1], [beta_2], [beta_3]])\n",
    "        return x.dot(beta)\n",
    "    np.random.seed(123)\n",
    "    n_inputs = 3\n",
    "    mean = np.zeros(n_inputs)\n",
    "    n_sim = 10 ** 4\n",
    "    \n",
    "    var_1 = 16\n",
    "    var_2 = 4\n",
    "    var_3 = 9\n",
    "    \n",
    "    # rho is the correlation coefficient, and thus, in range [-1,1]. Correlation between X2 and X3 only, i.e. rho = Corr[X2, X3].\n",
    "    rho = 0.3\n",
    "    covariance = rho * 2 * 3\n",
    "    beta_1 = 1.3\n",
    "    beta_2 = 1.5\n",
    "    beta_3 = 2.5\n",
    "\n",
    "    cov = np.array(\n",
    "        [[var_1, 0, 0],\n",
    "        [0, var_2, covariance],\n",
    "        [0, covariance, var_3]]\n",
    "        )\n",
    "    \n",
    "    component_1 = beta_1 ** 2 * var_1\n",
    "    component_2 = beta_2 ** 2 * var_2\n",
    "    component_3 = beta_3 ** 2 * var_3\n",
    "    \n",
    "    var_y = simulate_variance(\n",
    "        model=linear_model,\n",
    "        cov=cov,\n",
    "        mean=mean,\n",
    "        n_sim=n_sim)\n",
    "    \n",
    "    share = 0.5 * (rho**2)\n",
    "    \n",
    "    true_shapley_1 = (component_1)/var_y\n",
    "    true_shapley_2 = (component_2 + covariance * beta_2 * beta_3 + share * (component_3 - component_2))/var_y\n",
    "    true_shapley_3 = (component_3 + covariance * beta_2 * beta_3 + share * (component_2 - component_1))/var_y\n",
    "    \n",
    "    true_shapley_1 + true_shapley_2 + true_shapley_3 - 1.0"
   ]
  },
  {
   "cell_type": "code",
   "execution_count": 14,
   "metadata": {},
   "outputs": [],
   "source": [
    "def test_get_shapley_linear_three_inputs():\n",
    "    def linear_model(x):\n",
    "        beta = np.array([[beta_1], [beta_2], [beta_3]])\n",
    "        return x.dot(beta)\n",
    "\n",
    "    def x_all(n):\n",
    "        return cp.MvNormal(mean, cov).sample(n)\n",
    "\n",
    "    def x_cond(n, subset_j, subsetj_conditional, xjc):\n",
    "        if subsetj_conditional is None:\n",
    "            cov_int = np.array(cov).take(subset_j, axis=1)[subset_j]\n",
    "            distribution = cp.MvNormal(mean[subset_j], cov_int)\n",
    "            return distribution.sample(n)\n",
    "        else:\n",
    "            return _r_condmvn(\n",
    "                n,\n",
    "                mean=mean,\n",
    "                cov=cov,\n",
    "                dependent_ind=subset_j,\n",
    "                given_ind=subsetj_conditional,\n",
    "                x_given=xjc,\n",
    "            )\n",
    "\n",
    "    np.random.seed(123)\n",
    "    n_inputs = 3\n",
    "    mean = np.zeros(n_inputs)\n",
    "    var_1 = 16\n",
    "    var_2 = 4\n",
    "    var_3 = 9\n",
    "    \n",
    "    # rho is the correlation coefficient, and thus, in range [-1,1]. Correlation between X2 and X3 only, i.e. rho = Corr[X2, X3].\n",
    "    rho = 0.3\n",
    "    covariance = rho * np.sqrt(var_2) * np.sqrt(var_3)\n",
    "    beta_1 = 1.3\n",
    "    beta_2 = 1.5\n",
    "    beta_3 = 2.5\n",
    "    #beta = (beta_1, beta_2, beta)\n",
    "\n",
    "    component_1 = beta_1 ** 2 * var_1\n",
    "    component_2 = beta_2 ** 2 * var_2\n",
    "    component_3 = beta_3 ** 2 * var_3\n",
    "    var_y = component_1 + component_2 + component_3 + 2 * covariance * beta_2 * beta_3\n",
    "    share = 0.5 * (rho**2)\n",
    "    true_shapley_1 = (component_1)/var_y\n",
    "    true_shapley_2 = (component_2 + covariance * beta_2 * beta_3 + share * (component_3 - component_2))/var_y\n",
    "    true_shapley_3 = (component_3 + covariance * beta_2 * beta_3 + share * (component_2 - component_1))/var_y\n",
    "\n",
    "    cov = np.array(\n",
    "        [[var_1, 0, 0],\n",
    "        [0, var_2, covariance],\n",
    "        [0, covariance, var_3]]\n",
    "        )\n",
    "\n",
    "    method = \"exact\"\n",
    "    n_perms = None\n",
    "    n_output = 10 ** 4\n",
    "    n_outer = 10 ** 3\n",
    "    n_inner = 10 ** 2\n",
    "\n",
    "    col = [\"X\" + str(i) for i in np.arange(n_inputs) + 1]\n",
    "    names = [\"Shapley effects\", \"std. errors\", \"CI_min\", \"CI_max\"]\n",
    "\n",
    "    expected = pd.DataFrame(\n",
    "        data=[\n",
    "            [true_shapley_1, true_shapley_2],\n",
    "            [0, 0],\n",
    "            [true_shapley_1, true_shapley_2],\n",
    "            [true_shapley_1, true_shapley_2],\n",
    "        ],\n",
    "        index=names,\n",
    "        columns=col,\n",
    "    ).T\n",
    "\n",
    "    calculated = get_shapley(\n",
    "        method,\n",
    "        linear_model,\n",
    "        x_all,\n",
    "        x_cond,\n",
    "        n_perms,\n",
    "        n_inputs,\n",
    "        n_output,\n",
    "        n_outer,\n",
    "        n_inner,\n",
    "    )\n",
    "\n",
    "    aaae(calculated[\"Shapley effects\"], expected[\"Shapley effects\"], 4)"
   ]
  }
 ],
 "metadata": {
  "kernelspec": {
   "display_name": "Python 3",
   "language": "python",
   "name": "python3"
  },
  "language_info": {
   "codemirror_mode": {
    "name": "ipython",
    "version": 3
   },
   "file_extension": ".py",
   "mimetype": "text/x-python",
   "name": "python",
   "nbconvert_exporter": "python",
   "pygments_lexer": "ipython3",
   "version": "3.8.3"
  }
 },
 "nbformat": 4,
 "nbformat_minor": 4
}
