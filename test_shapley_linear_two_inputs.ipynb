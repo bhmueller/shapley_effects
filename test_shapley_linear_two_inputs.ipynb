{
 "cells": [
  {
   "cell_type": "code",
   "execution_count": 1,
   "metadata": {},
   "outputs": [],
   "source": [
    "\"\"\"Tests for the module shapley.py for the test case in section 3.2 in Iooss and \n",
    "Prieur (2019): Linear model with two Gaussian inputs.\n",
    "\n",
    "\"\"\"\n",
    "import chaospy as cp\n",
    "import numpy as np\n",
    "import pandas as pd\n",
    "from numpy.testing import assert_array_almost_equal as aaae\n",
    "\n",
    "from econsa_shapley import _r_condmvn\n",
    "from econsa_shapley import get_shapley\n",
    "from simulation_of_variance import simulate_variance"
   ]
  },
  {
   "cell_type": "code",
   "execution_count": 50,
   "metadata": {},
   "outputs": [
    {
     "ename": "AssertionError",
     "evalue": "\nArrays are not almost equal to 6 decimals\n\nMismatched elements: 2 / 2 (100%)\nMax absolute difference: 5.83247836e-05\nMax relative difference: 0.00018272\n x: array([0.680856, 0.319144])\n y: array([0.680797, 0.319203])",
     "output_type": "error",
     "traceback": [
      "\u001b[1;31m---------------------------------------------------------------------------\u001b[0m",
      "\u001b[1;31mAssertionError\u001b[0m                            Traceback (most recent call last)",
      "\u001b[1;32m<ipython-input-50-853ca7caca74>\u001b[0m in \u001b[0;36m<module>\u001b[1;34m\u001b[0m\n\u001b[0;32m     79\u001b[0m \u001b[1;33m\u001b[0m\u001b[0m\n\u001b[0;32m     80\u001b[0m \u001b[1;33m\u001b[0m\u001b[0m\n\u001b[1;32m---> 81\u001b[1;33m \u001b[0mtest_get_shapley_linear_two_inputs\u001b[0m\u001b[1;33m(\u001b[0m\u001b[1;33m)\u001b[0m\u001b[1;33m\u001b[0m\u001b[1;33m\u001b[0m\u001b[0m\n\u001b[0m",
      "\u001b[1;32m<ipython-input-50-853ca7caca74>\u001b[0m in \u001b[0;36mtest_get_shapley_linear_two_inputs\u001b[1;34m()\u001b[0m\n\u001b[0;32m     76\u001b[0m     )\n\u001b[0;32m     77\u001b[0m \u001b[1;33m\u001b[0m\u001b[0m\n\u001b[1;32m---> 78\u001b[1;33m     \u001b[0maaae\u001b[0m\u001b[1;33m(\u001b[0m\u001b[0mcalculated\u001b[0m\u001b[1;33m[\u001b[0m\u001b[1;34m\"Shapley effects\"\u001b[0m\u001b[1;33m]\u001b[0m\u001b[1;33m,\u001b[0m \u001b[0mexpected\u001b[0m\u001b[1;33m[\u001b[0m\u001b[1;34m\"Shapley effects\"\u001b[0m\u001b[1;33m]\u001b[0m\u001b[1;33m,\u001b[0m \u001b[1;36m6\u001b[0m\u001b[1;33m)\u001b[0m\u001b[1;33m\u001b[0m\u001b[1;33m\u001b[0m\u001b[0m\n\u001b[0m\u001b[0;32m     79\u001b[0m \u001b[1;33m\u001b[0m\u001b[0m\n\u001b[0;32m     80\u001b[0m \u001b[1;33m\u001b[0m\u001b[0m\n",
      "    \u001b[1;31m[... skipping hidden 2 frame]\u001b[0m\n",
      "\u001b[1;31mAssertionError\u001b[0m: \nArrays are not almost equal to 6 decimals\n\nMismatched elements: 2 / 2 (100%)\nMax absolute difference: 5.83247836e-05\nMax relative difference: 0.00018272\n x: array([0.680856, 0.319144])\n y: array([0.680797, 0.319203])"
     ]
    }
   ],
   "source": [
    "def test_get_shapley_linear_two_inputs():\n",
    "    def linear_model(x):\n",
    "        beta = np.array([[beta_1], [beta_2]])\n",
    "        return x.dot(beta)\n",
    "\n",
    "    def x_all(n):\n",
    "        return cp.MvNormal(mean, cov).sample(n)\n",
    "\n",
    "    def x_cond(n, subset_j, subsetj_conditional, xjc):\n",
    "        if subsetj_conditional is None:\n",
    "            cov_int = np.array(cov).take(subset_j, axis=1)[subset_j]\n",
    "            distribution = cp.MvNormal(mean[subset_j], cov_int)\n",
    "            return distribution.sample(n)\n",
    "        else:\n",
    "            return _r_condmvn(\n",
    "                n,\n",
    "                mean=mean,\n",
    "                cov=cov,\n",
    "                dependent_ind=subset_j,\n",
    "                given_ind=subsetj_conditional,\n",
    "                x_given=xjc,\n",
    "            )\n",
    "\n",
    "    np.random.seed(1234)\n",
    "    beta_1 = 1.3\n",
    "    beta_2 = 1.5\n",
    "    var_1 = 16\n",
    "    var_2 = 4\n",
    "    rho = 0.3\n",
    "\n",
    "    # Calculate analytical Shapley effects.\n",
    "    component_1 = beta_1 ** 2 * var_1\n",
    "    component_2 = beta_2 ** 2 * var_2\n",
    "    covariance = rho * np.sqrt(var_1) * np.sqrt(var_2)\n",
    "    var_y = component_1 + 2 * covariance * beta_1 * beta_2 + component_2\n",
    "    share = 0.5 * (rho**2)\n",
    "    true_shapley_1 = (component_1 * (1 - share) + covariance * beta_1 * beta_2 + component_2 * share)/var_y\n",
    "    true_shapley_2 = (component_2 * (1 - share) + covariance * beta_1 * beta_2 + component_1 * share)/var_y\n",
    "\n",
    "    n_inputs = 2\n",
    "    mean = np.zeros(n_inputs)\n",
    "    cov = np.array(\n",
    "        [[var_1, covariance],\n",
    "        [covariance, var_2]]\n",
    "        )\n",
    "    method = \"exact\"\n",
    "    n_perms = None\n",
    "    n_output = 10 ** 7\n",
    "    n_outer = 10 ** 5\n",
    "    n_inner = 10 ** 2\n",
    "\n",
    "    col = [\"X\" + str(i) for i in np.arange(n_inputs) + 1]\n",
    "    names = [\"Shapley effects\", \"std. errors\", \"CI_min\", \"CI_max\"]\n",
    "\n",
    "    expected = pd.DataFrame(\n",
    "        data=[\n",
    "            [true_shapley_1, true_shapley_2],\n",
    "            [0, 0],\n",
    "            [true_shapley_1, true_shapley_2],\n",
    "            [true_shapley_1, true_shapley_2],\n",
    "        ],\n",
    "        index=names,\n",
    "        columns=col,\n",
    "    ).T\n",
    "\n",
    "    calculated = get_shapley(\n",
    "        method,\n",
    "        linear_model,\n",
    "        x_all,\n",
    "        x_cond,\n",
    "        n_perms,\n",
    "        n_inputs,\n",
    "        n_output,\n",
    "        n_outer,\n",
    "        n_inner,\n",
    "    )\n",
    "\n",
    "    aaae(calculated[\"Shapley effects\"], expected[\"Shapley effects\"], 6)\n",
    "\n",
    "\n",
    "test_get_shapley_linear_two_inputs()"
   ]
  },
  {
   "cell_type": "code",
   "execution_count": 49,
   "metadata": {},
   "outputs": [
    {
     "name": "stdout",
     "output_type": "stream",
     "text": [
      "45.39942467549999 45.400000000000006\n"
     ]
    }
   ],
   "source": [
    "# Check whether model variance is precisely estimated. Use simulate_variance.\n",
    "# Define model.\n",
    "def linear_model(x):\n",
    "    beta = np.array([[beta_1], [beta_2]])\n",
    "    return x.dot(beta)\n",
    "\n",
    "def x_all(n):\n",
    "    return cp.MvNormal(mean, cov).sample(n)\n",
    "# Setup model inputs\n",
    "np.random.seed(123)\n",
    "beta_1 = 1.3\n",
    "beta_2 = 1.5\n",
    "var_1 = 16\n",
    "var_2 = 4\n",
    "rho = 0.3\n",
    "\n",
    "# Calculate analytical Shapley effects.\n",
    "component_1 = beta_1 ** 2 * var_1\n",
    "component_2 = beta_2 ** 2 * var_2\n",
    "covariance = rho * np.sqrt(var_1) * np.sqrt(var_2)\n",
    "var_y = component_1 + 2 * covariance * beta_1 * beta_2 + component_2\n",
    "\n",
    "n_inputs = 2\n",
    "n_output = 10 ** 7\n",
    "mean = np.zeros(n_inputs)\n",
    "cov = np.array(\n",
    "    [[var_1, covariance],\n",
    "    [covariance, var_2]]\n",
    "    )\n",
    "\n",
    "# Simulate variance and compare to analytical model variance.\n",
    "estimated_variance = simulate_variance(model=linear_model,\n",
    "                                      cov=cov,\n",
    "                                      mean=mean,\n",
    "                                      n_sim=n_output)\n",
    "\n",
    "print(estimated_variance, var_y)"
   ]
  },
  {
   "cell_type": "code",
   "execution_count": 36,
   "metadata": {},
   "outputs": [],
   "source": [
    "# Further function inputs.\n",
    "def x_cond(n, subset_j, subsetj_conditional, xjc):\n",
    "    if subsetj_conditional is None:\n",
    "        cov_int = np.array(cov).take(subset_j, axis=1)[subset_j]\n",
    "        distribution = cp.MvNormal(mean[subset_j], cov_int)\n",
    "        return distribution.sample(n)\n",
    "    else:\n",
    "        return _r_condmvn(\n",
    "            n,\n",
    "            mean=mean,\n",
    "            cov=cov,\n",
    "            dependent_ind=subset_j,\n",
    "            given_ind=subsetj_conditional,\n",
    "            x_given=xjc,\n",
    "        )\n",
    "method='exact'\n",
    "n_perms=None\n",
    "n_inner = 10 ** 2\n",
    "n_outer_range = np.array([10 ** 3, 10 ** 4, 10 ** 6, 2 * 10 ** 6, 3 * 10 ** 6, 4 * 10 ** 6])\n",
    "n_outer_range = np.array([10 ** 3, 10 ** 4, 10 ** 5])"
   ]
  },
  {
   "cell_type": "code",
   "execution_count": 37,
   "metadata": {},
   "outputs": [
    {
     "name": "stdout",
     "output_type": "stream",
     "text": [
      "    Shapley effects  std. errors    CI_min    CI_max\n",
      "X1         0.684211     0.094051  0.499871  0.868551\n",
      "X2         0.315789     0.094051  0.131449  0.500129\n",
      "    Shapley effects  std. errors    CI_min    CI_max\n",
      "X1         0.684734     0.096309  0.495968  0.873501\n",
      "X2         0.315266     0.096309  0.126499  0.504032\n",
      "    Shapley effects  std. errors    CI_min    CI_max\n",
      "X1         0.679913     0.099102  0.485674  0.874153\n",
      "X2         0.320087     0.099102  0.125847  0.514326\n",
      "Wall time: 3min 30s\n"
     ]
    }
   ],
   "source": [
    "%%time\n",
    "for i in n_outer_range:\n",
    "    n_outer = i\n",
    "    out = get_shapley(\n",
    "        method,\n",
    "        linear_model,\n",
    "        x_all,\n",
    "        x_cond,\n",
    "        n_perms,\n",
    "        n_inputs,\n",
    "        n_output,\n",
    "        n_outer,\n",
    "        n_inner,\n",
    "    )\n",
    "    print(out)"
   ]
  },
  {
   "cell_type": "code",
   "execution_count": 38,
   "metadata": {},
   "outputs": [
    {
     "name": "stdout",
     "output_type": "stream",
     "text": [
      "    Shapley effects  std. errors    CI_min    CI_max\n",
      "X1         0.680707     0.098198  0.488239  0.873176\n",
      "X2         0.319293     0.098198  0.126824  0.511761\n",
      "Wall time: 33min 3s\n"
     ]
    }
   ],
   "source": [
    "%%time\n",
    "n_outer_range = np.array([10 ** 6])\n",
    "for i in n_outer_range:\n",
    "    n_outer = i\n",
    "    out = get_shapley(\n",
    "        method,\n",
    "        linear_model,\n",
    "        x_all,\n",
    "        x_cond,\n",
    "        n_perms,\n",
    "        n_inputs,\n",
    "        n_output,\n",
    "        n_outer,\n",
    "        n_inner,\n",
    "    )\n",
    "    print(out)"
   ]
  },
  {
   "cell_type": "code",
   "execution_count": 51,
   "metadata": {},
   "outputs": [
    {
     "name": "stdout",
     "output_type": "stream",
     "text": [
      "Wall time: 3min 8s\n"
     ]
    },
    {
     "data": {
      "text/html": [
       "<div>\n",
       "<style scoped>\n",
       "    .dataframe tbody tr th:only-of-type {\n",
       "        vertical-align: middle;\n",
       "    }\n",
       "\n",
       "    .dataframe tbody tr th {\n",
       "        vertical-align: top;\n",
       "    }\n",
       "\n",
       "    .dataframe thead th {\n",
       "        text-align: right;\n",
       "    }\n",
       "</style>\n",
       "<table border=\"1\" class=\"dataframe\">\n",
       "  <thead>\n",
       "    <tr style=\"text-align: right;\">\n",
       "      <th></th>\n",
       "      <th>Shapley effects</th>\n",
       "      <th>std. errors</th>\n",
       "      <th>CI_min</th>\n",
       "      <th>CI_max</th>\n",
       "    </tr>\n",
       "  </thead>\n",
       "  <tbody>\n",
       "    <tr>\n",
       "      <th>X1</th>\n",
       "      <td>0.680564</td>\n",
       "      <td>0.098387</td>\n",
       "      <td>0.487725</td>\n",
       "      <td>0.873404</td>\n",
       "    </tr>\n",
       "    <tr>\n",
       "      <th>X2</th>\n",
       "      <td>0.319436</td>\n",
       "      <td>0.098387</td>\n",
       "      <td>0.126596</td>\n",
       "      <td>0.512275</td>\n",
       "    </tr>\n",
       "  </tbody>\n",
       "</table>\n",
       "</div>"
      ],
      "text/plain": [
       "    Shapley effects  std. errors    CI_min    CI_max\n",
       "X1         0.680564     0.098387  0.487725  0.873404\n",
       "X2         0.319436     0.098387  0.126596  0.512275"
      ]
     },
     "execution_count": 51,
     "metadata": {},
     "output_type": "execute_result"
    }
   ],
   "source": [
    "%%time\n",
    "n_outer = 10 ** 5\n",
    "n_inner = 10 ** 2\n",
    "n_ouput = 10 ** 7\n",
    "get_shapley(\n",
    "    method,\n",
    "    linear_model,\n",
    "    x_all,\n",
    "    x_cond,\n",
    "    n_perms,\n",
    "    n_inputs,\n",
    "    n_output,\n",
    "    n_outer,\n",
    "    n_inner,\n",
    "    )"
   ]
  },
  {
   "cell_type": "code",
   "execution_count": null,
   "metadata": {},
   "outputs": [],
   "source": []
  }
 ],
 "metadata": {
  "kernelspec": {
   "display_name": "Python 3",
   "language": "python",
   "name": "python3"
  },
  "language_info": {
   "codemirror_mode": {
    "name": "ipython",
    "version": 3
   },
   "file_extension": ".py",
   "mimetype": "text/x-python",
   "name": "python",
   "nbconvert_exporter": "python",
   "pygments_lexer": "ipython3",
   "version": "3.8.3"
  }
 },
 "nbformat": 4,
 "nbformat_minor": 4
}
