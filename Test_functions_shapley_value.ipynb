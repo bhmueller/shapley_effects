{
 "cells": [
  {
   "cell_type": "code",
   "execution_count": 1,
   "metadata": {},
   "outputs": [],
   "source": [
    "# Import modules.\n",
    "\n",
    "import chaospy as cp\n",
    "import numpy as np\n",
    "import pandas as pd\n",
    "from numpy.testing import assert_array_almost_equal as aaae\n",
    "\n",
    "from shapley_econsa import _r_condmvn\n",
    "from shapley_econsa import get_shapley\n"
   ]
  },
  {
   "cell_type": "code",
   "execution_count": 78,
   "metadata": {},
   "outputs": [],
   "source": [
    "def test_get_shapley_exact_linear():\n",
    "    def linear_model(x):\n",
    "        beta = np.array([[beta_1], [beta_2]])\n",
    "        return x.dot(beta)\n",
    "\n",
    "    def x_all(n):\n",
    "        return cp.MvNormal(mean, cov).sample(n)\n",
    "\n",
    "    def x_cond(n, subset_j, subsetj_conditional, xjc):\n",
    "        if subsetj_conditional is None:\n",
    "            cov_int = np.array(cov).take(subset_j, axis=1)[subset_j]\n",
    "            distribution = cp.MvNormal(mean[subset_j], cov_int)\n",
    "            return distribution.sample(n)\n",
    "        else:\n",
    "            return _r_condmvn(\n",
    "                n,\n",
    "                mean=mean,\n",
    "                cov=cov,\n",
    "                dependent_ind=subset_j,\n",
    "                given_ind=subsetj_conditional,\n",
    "                x_given=xjc,\n",
    "            )\n",
    "\n",
    "    np.random.seed(123)\n",
    "    n_inputs = 2\n",
    "    mean = np.zeros(n_inputs)\n",
    "    var_1 = 1.5\n",
    "    var_2 = 2.5\n",
    "    \n",
    "    # rho is the correlation coefficient, and thus, in range [-1,1].\n",
    "    rho = 0.3\n",
    "    covariance = rho * np.sqrt(var_1) * np.sqrt(var_2)\n",
    "    beta_1 = 1.3\n",
    "    beta_2 = 1.5\n",
    "    beta = (beta_1, beta_2)\n",
    "\n",
    "    component_1 = beta_1**2 * var_1\n",
    "    component_2 = beta_2**2 * var_2\n",
    "    var_y = component_1 + 2 * covariance * beta_1 * beta_2 + component_2\n",
    "    share = 0.5 * (rho**2)\n",
    "    true_shapley_1 = (component_1 * (1 - share) + covariance * beta_1 * beta_2 + component_2 * share)/var_y\n",
    "    true_shapley_2 = (component_2 * (1 - share) + covariance * beta_1 * beta_2 + component_1 * share)/var_y\n",
    "\n",
    "    cov = np.array(\n",
    "        [[var_1, covariance],\n",
    "        [covariance, var_2]]\n",
    "        )\n",
    "\n",
    "    method = \"exact\"\n",
    "    n_perms = None\n",
    "    n_output = 10 ** 4\n",
    "    n_outer = 10 ** 3\n",
    "    n_inner = 10 ** 2\n",
    "\n",
    "    col = [\"X\" + str(i) for i in np.arange(n_inputs) + 1]\n",
    "    names = [\"Shapley effects\", \"std. errors\", \"CI_min\", \"CI_max\"]\n",
    "\n",
    "    expected = pd.DataFrame(\n",
    "        data=[\n",
    "            [true_shapley_1, true_shapley_2],\n",
    "            [0, 0],\n",
    "            [true_shapley_1, true_shapley_2],\n",
    "            [true_shapley_1, true_shapley_2],\n",
    "        ],\n",
    "        index=names,\n",
    "        columns=col,\n",
    "    ).T\n",
    "\n",
    "    calculated = get_shapley(\n",
    "        method,\n",
    "        linear_model,\n",
    "        x_all,\n",
    "        x_cond,\n",
    "        n_perms,\n",
    "        n_inputs,\n",
    "        n_output,\n",
    "        n_outer,\n",
    "        n_inner,\n",
    "    )\n",
    "\n",
    "    aaae(calculated[\"Shapley effects\"], expected[\"Shapley effects\"])"
   ]
  },
  {
   "cell_type": "code",
   "execution_count": 79,
   "metadata": {},
   "outputs": [
    {
     "output_type": "error",
     "ename": "AssertionError",
     "evalue": "\nArrays are not almost equal to 6 decimals\n\nMismatched elements: 2 / 2 (100%)\nMax absolute difference: 0.00085983\nMax relative difference: 0.00235477\n x: array([0.364286, 0.635714])\n y: array([0.365146, 0.634854])",
     "traceback": [
      "\u001b[1;31m---------------------------------------------------------------------------\u001b[0m",
      "\u001b[1;31mAssertionError\u001b[0m                            Traceback (most recent call last)",
      "\u001b[1;32m<ipython-input-79-ead8a524f441>\u001b[0m in \u001b[0;36m<module>\u001b[1;34m\u001b[0m\n\u001b[1;32m----> 1\u001b[1;33m \u001b[0mtest_get_shapley_exact_linear\u001b[0m\u001b[1;33m(\u001b[0m\u001b[1;33m)\u001b[0m\u001b[1;33m\u001b[0m\u001b[1;33m\u001b[0m\u001b[0m\n\u001b[0m",
      "\u001b[1;32m<ipython-input-78-13ea2a6d9078>\u001b[0m in \u001b[0;36mtest_get_shapley_exact_linear\u001b[1;34m()\u001b[0m\n\u001b[0;32m     79\u001b[0m     )\n\u001b[0;32m     80\u001b[0m \u001b[1;33m\u001b[0m\u001b[0m\n\u001b[1;32m---> 81\u001b[1;33m     \u001b[0maaae\u001b[0m\u001b[1;33m(\u001b[0m\u001b[0mcalculated\u001b[0m\u001b[1;33m[\u001b[0m\u001b[1;34m\"Shapley effects\"\u001b[0m\u001b[1;33m]\u001b[0m\u001b[1;33m,\u001b[0m \u001b[0mexpected\u001b[0m\u001b[1;33m[\u001b[0m\u001b[1;34m\"Shapley effects\"\u001b[0m\u001b[1;33m]\u001b[0m\u001b[1;33m)\u001b[0m\u001b[1;33m\u001b[0m\u001b[1;33m\u001b[0m\u001b[0m\n\u001b[0m",
      "    \u001b[1;31m[... skipping hidden 2 frame]\u001b[0m\n",
      "\u001b[1;31mAssertionError\u001b[0m: \nArrays are not almost equal to 6 decimals\n\nMismatched elements: 2 / 2 (100%)\nMax absolute difference: 0.00085983\nMax relative difference: 0.00235477\n x: array([0.364286, 0.635714])\n y: array([0.365146, 0.634854])"
     ]
    }
   ],
   "source": [
    "test_get_shapley_exact_linear()"
   ]
  },
  {
   "source": [
    "## Calculate true Shapley values (as in test function)."
   ],
   "cell_type": "markdown",
   "metadata": {}
  },
  {
   "cell_type": "code",
   "execution_count": 75,
   "metadata": {},
   "outputs": [
    {
     "output_type": "stream",
     "name": "stdout",
     "text": [
      "0.3651456842665369 \n 0.6348543157334631\n"
     ]
    }
   ],
   "source": [
    "    var_1 = 1.5\n",
    "    var_2 = 2.5\n",
    "    \n",
    "    rho = 0.3\n",
    "    covariance = rho * np.sqrt(var_1) * np.sqrt(var_2)\n",
    "    beta_1 = 1.3\n",
    "    beta_2 = 1.5\n",
    "    beta = (beta_1, beta_2)\n",
    "\n",
    "    component_1 = beta_1**2 * var_1\n",
    "    component_2 = beta_2**2 * var_2\n",
    "    var_y = component_1 + 2 * covariance * beta_1 * beta_2 + component_2\n",
    "    share = 0.5 * (rho**2)\n",
    "    true_shapley_1 = (component_1 * (1 - share) + covariance * beta_1 * beta_2 + component_2 * share)/var_y\n",
    "    true_shapley_2 = (component_2 * (1 - share) + covariance * beta_1 * beta_2 + component_1 * share)/var_y\n",
    "print(true_shapley_1, '\\n', true_shapley_2)"
   ]
  },
  {
   "source": [
    "## Look for rounding issues."
   ],
   "cell_type": "markdown",
   "metadata": {}
  },
  {
   "cell_type": "code",
   "execution_count": 77,
   "metadata": {},
   "outputs": [
    {
     "output_type": "stream",
     "name": "stdout",
     "text": [
      "0.3651456842665369 \n 0.6348543157334631\n"
     ]
    }
   ],
   "source": [
    "    var_1 = 1.5\n",
    "    var_2 = 2.5\n",
    "    \n",
    "    rho = 0.3\n",
    "    #covariance = \n",
    "    beta_1 = 1.3\n",
    "    beta_2 = 1.5\n",
    "    #beta = (beta_1, beta_2)\n",
    "\n",
    "    component_1 = (beta_1**2 * var_1)\n",
    "    component_2 = (beta_2**2 * var_2)\n",
    "    var_y = ((beta_1**2 * var_1) + 2 * (rho * np.sqrt(var_1) * np.sqrt(var_2)) * beta_1 * beta_2 + (beta_2**2 * var_2))\n",
    "    share = 0.5 * (rho**2)\n",
    "    true_shapley_1 = ((beta_1**2 * var_1) * (1 - share) + (rho * np.sqrt(var_1) * np.sqrt(var_2)) * beta_1 * beta_2 + (beta_2**2 * var_2) * share)/((beta_1**2 * var_1) + 2 * (rho * np.sqrt(var_1) * np.sqrt(var_2)) * beta_1 * beta_2 + (beta_2**2 * var_2))\n",
    "    true_shapley_2 = ((beta_2**2 * var_2) * (1 - share) + (rho * np.sqrt(var_1) * np.sqrt(var_2)) * beta_1 * beta_2 + (beta_1**2 * var_1) * share)/((beta_1**2 * var_1) + 2 * (rho * np.sqrt(var_1) * np.sqrt(var_2)) * beta_1 * beta_2 + (beta_2**2 * var_2))\n",
    "print(true_shapley_1, '\\n', true_shapley_2)"
   ]
  },
  {
   "cell_type": "code",
   "execution_count": null,
   "metadata": {},
   "outputs": [],
   "source": []
  }
 ],
 "metadata": {
  "kernelspec": {
   "display_name": "Python 3",
   "language": "python",
   "name": "python3"
  },
  "language_info": {
   "codemirror_mode": {
    "name": "ipython",
    "version": 3
   },
   "file_extension": ".py",
   "mimetype": "text/x-python",
   "name": "python",
   "nbconvert_exporter": "python",
   "pygments_lexer": "ipython3",
   "version": "3.8.3-final"
  }
 },
 "nbformat": 4,
 "nbformat_minor": 4
}