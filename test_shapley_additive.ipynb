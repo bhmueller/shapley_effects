{
 "cells": [
  {
   "cell_type": "markdown",
   "metadata": {},
   "source": [
    "## Tests for additive model with three Gaussian inputs\n",
    "Exact permutation"
   ]
  },
  {
   "cell_type": "code",
   "execution_count": 5,
   "metadata": {},
   "outputs": [],
   "source": [
    "import numpy as np\n",
    "import pandas as pd\n",
    "import chaospy as cp\n",
    "from numpy.testing import assert_array_almost_equal as aaae\n",
    "\n",
    "from econsa_shapley import get_shapley\n",
    "from econsa_shapley import _r_condmvn"
   ]
  },
  {
   "cell_type": "code",
   "execution_count": 6,
   "metadata": {},
   "outputs": [
    {
     "data": {
      "text/plain": [
       "1.0"
      ]
     },
     "execution_count": 6,
     "metadata": {},
     "output_type": "execute_result"
    }
   ],
   "source": [
    "    def additive_model(x):\n",
    "        return x[:, 0] + x[:, 1] * x[:, 2]\n",
    "    \n",
    "    var_1 = 1\n",
    "    var_2 = 1\n",
    "    var_3 = 1\n",
    "    \n",
    "    rho = 0.65\n",
    "    covariance = rho * np.sqrt(var_1) * np.sqrt(var_3)\n",
    "    np.random.seed(123)\n",
    "    n_inputs = 3\n",
    "    mean = np.zeros(n_inputs)\n",
    "    \n",
    "    cov = np.array(\n",
    "        [[var_1, 0, covariance],\n",
    "        [0, var_2, 0],\n",
    "        [covariance, 0, var_3]]\n",
    "        )\n",
    "    \n",
    "    # Variance obtained analytically by myself.\n",
    "    var_y = var_1 + var_2 * var_3\n",
    "    \n",
    "    true_shapley_1 = ((var_1 * (1 - ((rho ** 2) / 2))) + (((var_2 * var_3) * (rho ** 2)) / 6)) / var_y\n",
    "    true_shapley_2 = (((var_2 * var_3) * (3 + (rho ** 2))) / 6) / var_y\n",
    "    true_shapley_3 = (((var_1 * (rho ** 2)) / 2) + (((var_2 * var_3) * (3 - (2 * (rho ** 2)))) / 6)) / var_y\n",
    "\n",
    "true_shapley_1 + true_shapley_2 + true_shapley_3"
   ]
  },
  {
   "cell_type": "code",
   "execution_count": 8,
   "metadata": {},
   "outputs": [
    {
     "ename": "AssertionError",
     "evalue": "\nArrays are not almost equal to 4 decimals\n\nMismatched elements: 3 / 3 (100%)\nMax absolute difference: 0.00534354\nMax relative difference: 0.02075163\n x: array([0.4884, 0.2594, 0.2522])\n y: array([0.485 , 0.2575, 0.2575])",
     "output_type": "error",
     "traceback": [
      "\u001b[1;31m---------------------------------------------------------------------------\u001b[0m",
      "\u001b[1;31mAssertionError\u001b[0m                            Traceback (most recent call last)",
      "\u001b[1;32m<ipython-input-8-d799ba32bbbd>\u001b[0m in \u001b[0;36m<module>\u001b[1;34m\u001b[0m\n\u001b[0;32m     76\u001b[0m     \u001b[0maaae\u001b[0m\u001b[1;33m(\u001b[0m\u001b[0mcalculated\u001b[0m\u001b[1;33m[\u001b[0m\u001b[1;34m\"Shapley effects\"\u001b[0m\u001b[1;33m]\u001b[0m\u001b[1;33m,\u001b[0m \u001b[0mexpected\u001b[0m\u001b[1;33m[\u001b[0m\u001b[1;34m\"Shapley effects\"\u001b[0m\u001b[1;33m]\u001b[0m\u001b[1;33m,\u001b[0m \u001b[1;36m4\u001b[0m\u001b[1;33m)\u001b[0m\u001b[1;33m\u001b[0m\u001b[1;33m\u001b[0m\u001b[0m\n\u001b[0;32m     77\u001b[0m \u001b[1;33m\u001b[0m\u001b[0m\n\u001b[1;32m---> 78\u001b[1;33m \u001b[0mtest_get_shapley_additive_three_inputs\u001b[0m\u001b[1;33m(\u001b[0m\u001b[1;33m)\u001b[0m\u001b[1;33m\u001b[0m\u001b[1;33m\u001b[0m\u001b[0m\n\u001b[0m",
      "\u001b[1;32m<ipython-input-8-d799ba32bbbd>\u001b[0m in \u001b[0;36mtest_get_shapley_additive_three_inputs\u001b[1;34m()\u001b[0m\n\u001b[0;32m     74\u001b[0m     )\n\u001b[0;32m     75\u001b[0m \u001b[1;33m\u001b[0m\u001b[0m\n\u001b[1;32m---> 76\u001b[1;33m     \u001b[0maaae\u001b[0m\u001b[1;33m(\u001b[0m\u001b[0mcalculated\u001b[0m\u001b[1;33m[\u001b[0m\u001b[1;34m\"Shapley effects\"\u001b[0m\u001b[1;33m]\u001b[0m\u001b[1;33m,\u001b[0m \u001b[0mexpected\u001b[0m\u001b[1;33m[\u001b[0m\u001b[1;34m\"Shapley effects\"\u001b[0m\u001b[1;33m]\u001b[0m\u001b[1;33m,\u001b[0m \u001b[1;36m4\u001b[0m\u001b[1;33m)\u001b[0m\u001b[1;33m\u001b[0m\u001b[1;33m\u001b[0m\u001b[0m\n\u001b[0m\u001b[0;32m     77\u001b[0m \u001b[1;33m\u001b[0m\u001b[0m\n\u001b[0;32m     78\u001b[0m \u001b[0mtest_get_shapley_additive_three_inputs\u001b[0m\u001b[1;33m(\u001b[0m\u001b[1;33m)\u001b[0m\u001b[1;33m\u001b[0m\u001b[1;33m\u001b[0m\u001b[0m\n",
      "    \u001b[1;31m[... skipping hidden 2 frame]\u001b[0m\n",
      "\u001b[1;31mAssertionError\u001b[0m: \nArrays are not almost equal to 4 decimals\n\nMismatched elements: 3 / 3 (100%)\nMax absolute difference: 0.00534354\nMax relative difference: 0.02075163\n x: array([0.4884, 0.2594, 0.2522])\n y: array([0.485 , 0.2575, 0.2575])"
     ]
    }
   ],
   "source": [
    "def test_get_shapley_additive_three_inputs():\n",
    "    def additive_model(x):\n",
    "        return x[:, 0] + x[:, 1] * x[:, 2]\n",
    "\n",
    "    def x_all(n):\n",
    "        return cp.MvNormal(mean, cov).sample(n)\n",
    "\n",
    "    def x_cond(n, subset_j, subsetj_conditional, xjc):\n",
    "        if subsetj_conditional is None:\n",
    "            cov_int = np.array(cov).take(subset_j, axis=1)[subset_j]\n",
    "            distribution = cp.MvNormal(mean[subset_j], cov_int)\n",
    "            return distribution.sample(n)\n",
    "        else:\n",
    "            return _r_condmvn(\n",
    "                n,\n",
    "                mean=mean,\n",
    "                cov=cov,\n",
    "                dependent_ind=subset_j,\n",
    "                given_ind=subsetj_conditional,\n",
    "                x_given=xjc,\n",
    "            )\n",
    "\n",
    "    np.random.seed(123)\n",
    "    n_inputs = 3\n",
    "    mean = np.zeros(n_inputs)\n",
    "    var_1 = 1\n",
    "    var_2 = 1\n",
    "    var_3 = 1\n",
    "    rho = 0.3\n",
    "    covariance = rho * np.sqrt(var_1) * np.sqrt(var_3)\n",
    "    # Variance obtained analytically by myself.\n",
    "    var_y = var_1 + var_2 * var_3\n",
    "    \n",
    "    cov = np.array(\n",
    "        [[var_1, 0, covariance],\n",
    "        [0, var_2, 0],\n",
    "        [covariance, 0, var_3]]\n",
    "        )\n",
    "    \n",
    "    true_shapley_1 = ((var_1 * (1 - ((rho ** 2) / 2))) + (((var_2 * var_3) * (rho ** 2)) / 6)) / var_y\n",
    "    true_shapley_2 = (((var_2 * var_3) * (3 + (rho ** 2))) / 6) / var_y\n",
    "    true_shapley_3 = (((var_1 * (rho ** 2)) / 2) + (((var_2 * var_3) * (3 - (2 * (rho ** 2)))) / 6)) / var_y\n",
    "\n",
    "    method = \"exact\"\n",
    "    n_perms = None\n",
    "    n_output = 10 ** 5\n",
    "    n_outer = 10 ** 4\n",
    "    n_inner = 10 ** 3\n",
    "\n",
    "    col = [\"X\" + str(i) for i in np.arange(n_inputs) + 1]\n",
    "    names = [\"Shapley effects\", \"std. errors\", \"CI_min\", \"CI_max\"]\n",
    "\n",
    "    expected = pd.DataFrame(\n",
    "        data=[\n",
    "            [true_shapley_1, true_shapley_2, true_shapley_3],\n",
    "            [0, 0, 0],\n",
    "            [true_shapley_1, true_shapley_2, true_shapley_3],\n",
    "            [true_shapley_1, true_shapley_2, true_shapley_3],\n",
    "        ],\n",
    "        index=names,\n",
    "        columns=col,\n",
    "    ).T\n",
    "\n",
    "    calculated = get_shapley(\n",
    "        method,\n",
    "        additive_model,\n",
    "        x_all,\n",
    "        x_cond,\n",
    "        n_perms,\n",
    "        n_inputs,\n",
    "        n_output,\n",
    "        n_outer,\n",
    "        n_inner,\n",
    "    )\n",
    "\n",
    "    aaae(calculated[\"Shapley effects\"], expected[\"Shapley effects\"], 4)\n",
    "\n",
    "test_get_shapley_additive_three_inputs()"
   ]
  },
  {
   "cell_type": "code",
   "execution_count": 38,
   "metadata": {},
   "outputs": [
    {
     "data": {
      "text/html": [
       "<div>\n",
       "<style scoped>\n",
       "    .dataframe tbody tr th:only-of-type {\n",
       "        vertical-align: middle;\n",
       "    }\n",
       "\n",
       "    .dataframe tbody tr th {\n",
       "        vertical-align: top;\n",
       "    }\n",
       "\n",
       "    .dataframe thead th {\n",
       "        text-align: right;\n",
       "    }\n",
       "</style>\n",
       "<table border=\"1\" class=\"dataframe\">\n",
       "  <thead>\n",
       "    <tr style=\"text-align: right;\">\n",
       "      <th></th>\n",
       "      <th>0</th>\n",
       "    </tr>\n",
       "  </thead>\n",
       "  <tbody>\n",
       "    <tr>\n",
       "      <th>0</th>\n",
       "      <td>[0.0, 0.0]</td>\n",
       "    </tr>\n",
       "    <tr>\n",
       "      <th>1</th>\n",
       "      <td>[1.0, 1.0]</td>\n",
       "    </tr>\n",
       "  </tbody>\n",
       "</table>\n",
       "</div>"
      ],
      "text/plain": [
       "            0\n",
       "0  [0.0, 0.0]\n",
       "1  [1.0, 1.0]"
      ]
     },
     "execution_count": 38,
     "metadata": {},
     "output_type": "execute_result"
    }
   ],
   "source": [
    "first_row = np.zeros(2)\n",
    "second_row = np.ones(2)\n",
    "pd.DataFrame(\n",
    "    data=[\n",
    "        [first_row],\n",
    "        [second_row]\n",
    "    ]\n",
    "            )"
   ]
  }
 ],
 "metadata": {
  "kernelspec": {
   "display_name": "Python 3",
   "language": "python",
   "name": "python3"
  },
  "language_info": {
   "codemirror_mode": {
    "name": "ipython",
    "version": 3
   },
   "file_extension": ".py",
   "mimetype": "text/x-python",
   "name": "python",
   "nbconvert_exporter": "python",
   "pygments_lexer": "ipython3",
   "version": "3.8.3"
  }
 },
 "nbformat": 4,
 "nbformat_minor": 4
}
