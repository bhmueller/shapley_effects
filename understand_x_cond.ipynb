{
 "cells": [
  {
   "cell_type": "markdown",
   "metadata": {},
   "source": [
    "# Understand x_cond()."
   ]
  },
  {
   "cell_type": "code",
   "execution_count": 1,
   "metadata": {},
   "outputs": [],
   "source": [
    "import numpy as np\n",
    "import chaospy as cp\n",
    "\n",
    "from econsa_shapley import get_shapley\n",
    "from econsa_shapley import _r_condmvn\n",
    "from econsa_sampling import cond_mvn"
   ]
  },
  {
   "cell_type": "code",
   "execution_count": 2,
   "metadata": {},
   "outputs": [],
   "source": [
    "def x_cond(n, subset_j, subsetj_conditional, xjc):\n",
    "    if subsetj_conditional is None:\n",
    "        cov_int = np.array(cov)\n",
    "        cov_int = cov_int.take(subset_j, axis=1)\n",
    "        cov_int = cov_int[subset_j]\n",
    "        distribution = cp.MvNormal(mean[subset_j], cov_int)\n",
    "        return distribution.sample(n)\n",
    "    else:\n",
    "        return _r_condmvn(\n",
    "            n,\n",
    "            mean=mean,\n",
    "            cov=cov,\n",
    "            dependent_ind=subset_j,\n",
    "            given_ind=subsetj_conditional,\n",
    "            x_given=xjc,\n",
    "        )"
   ]
  },
  {
   "cell_type": "code",
   "execution_count": 48,
   "metadata": {},
   "outputs": [],
   "source": [
    "# Define all other arguments.\n",
    "n_inputs = 7\n",
    "n_outer = 10\n",
    "n_inner = 4\n",
    "np.random.seed(123)\n",
    "perms = np.random.permutation(n_inputs)\n",
    "j = 3\n",
    "sj = perms[:j]\n",
    "sjc = perms[j:]\n",
    "cov = np.identity(n_inputs)\n",
    "mean = np.zeros(n_inputs)"
   ]
  },
  {
   "cell_type": "code",
   "execution_count": 49,
   "metadata": {},
   "outputs": [],
   "source": [
    "xjc_sampled = np.array(x_cond(n_outer, sjc, None, None)).T\n",
    "length = 4  # Needs to be in range(n_outer).\n",
    "xjc = xjc_sampled[length,]"
   ]
  },
  {
   "cell_type": "code",
   "execution_count": 50,
   "metadata": {},
   "outputs": [
    {
     "data": {
      "text/plain": [
       "array([0, 2, 5, 6])"
      ]
     },
     "execution_count": 50,
     "metadata": {},
     "output_type": "execute_result"
    }
   ],
   "source": [
    "sjc"
   ]
  },
  {
   "cell_type": "code",
   "execution_count": 51,
   "metadata": {},
   "outputs": [
    {
     "data": {
      "text/plain": [
       "array([ 0.20111148, -1.38043429, -0.72406513,  0.5055202 ])"
      ]
     },
     "execution_count": 51,
     "metadata": {},
     "output_type": "execute_result"
    }
   ],
   "source": [
    "xjc"
   ]
  },
  {
   "cell_type": "code",
   "execution_count": 52,
   "metadata": {},
   "outputs": [
    {
     "data": {
      "text/plain": [
       "array([[ 0.5803192 ,  0.50937464, -0.36453594, -1.01908106],\n",
       "       [-0.02226337,  0.23759504, -0.20903631, -1.42494548],\n",
       "       [ 0.77228698,  0.3366033 ,  0.39809876,  1.2258142 ],\n",
       "       [-0.22516779, -0.15031721, -0.3218018 ,  0.67568196],\n",
       "       [ 0.20111148, -1.38043429, -0.72406513,  0.5055202 ],\n",
       "       [-1.08054058,  0.56020497,  2.25697836,  0.02949068],\n",
       "       [-0.25071416, -0.18181619,  0.72572381, -0.08968679],\n",
       "       [ 0.32475569, -0.53079478,  0.76211542,  0.17238023],\n",
       "       [-0.45612265, -0.01984182, -1.91131658, -0.51708201],\n",
       "       [-0.69107477,  0.64425943, -0.93883974, -0.00674592]])"
      ]
     },
     "execution_count": 52,
     "metadata": {},
     "output_type": "execute_result"
    }
   ],
   "source": [
    "xjc_sampled"
   ]
  },
  {
   "cell_type": "code",
   "execution_count": 53,
   "metadata": {},
   "outputs": [
    {
     "data": {
      "text/plain": [
       "(10, 4)"
      ]
     },
     "execution_count": 53,
     "metadata": {},
     "output_type": "execute_result"
    }
   ],
   "source": [
    "xjc_sampled.shape"
   ]
  },
  {
   "cell_type": "code",
   "execution_count": 54,
   "metadata": {},
   "outputs": [],
   "source": [
    "sample_inputs = np.array(x_cond(n_inner, sj, sjc, xjc.flat)).T.reshape(\n",
    "    n_inner,\n",
    "    -1,)"
   ]
  },
  {
   "cell_type": "code",
   "execution_count": 55,
   "metadata": {},
   "outputs": [
    {
     "data": {
      "text/plain": [
       "array([[ 0.47684265, -0.72953926,  0.8335348 ],\n",
       "       [ 1.38320293, -0.15893343, -0.5748306 ],\n",
       "       [-1.23224413,  0.67935333, -0.16767816],\n",
       "       [-0.01130065, -0.04791466, -2.33555015]])"
      ]
     },
     "execution_count": 55,
     "metadata": {},
     "output_type": "execute_result"
    }
   ],
   "source": [
    "sample_inputs"
   ]
  },
  {
   "cell_type": "code",
   "execution_count": 56,
   "metadata": {},
   "outputs": [
    {
     "data": {
      "text/plain": [
       "(4, 3)"
      ]
     },
     "execution_count": 56,
     "metadata": {},
     "output_type": "execute_result"
    }
   ],
   "source": [
    "sample_inputs.shape"
   ]
  },
  {
   "cell_type": "code",
   "execution_count": 57,
   "metadata": {},
   "outputs": [
    {
     "data": {
      "text/plain": [
       "array([[ 0.20111148, -1.38043429, -0.72406513,  0.5055202 ],\n",
       "       [ 0.20111148, -1.38043429, -0.72406513,  0.5055202 ],\n",
       "       [ 0.20111148, -1.38043429, -0.72406513,  0.5055202 ],\n",
       "       [ 0.20111148, -1.38043429, -0.72406513,  0.5055202 ]])"
      ]
     },
     "execution_count": 57,
     "metadata": {},
     "output_type": "execute_result"
    }
   ],
   "source": [
    "np.ones((n_inner, 1)) * xjc"
   ]
  },
  {
   "cell_type": "code",
   "execution_count": null,
   "metadata": {},
   "outputs": [],
   "source": []
  }
 ],
 "metadata": {
  "kernelspec": {
   "display_name": "Python 3",
   "language": "python",
   "name": "python3"
  },
  "language_info": {
   "codemirror_mode": {
    "name": "ipython",
    "version": 3
   },
   "file_extension": ".py",
   "mimetype": "text/x-python",
   "name": "python",
   "nbconvert_exporter": "python",
   "pygments_lexer": "ipython3",
   "version": "3.8.3"
  }
 },
 "nbformat": 4,
 "nbformat_minor": 4
}
