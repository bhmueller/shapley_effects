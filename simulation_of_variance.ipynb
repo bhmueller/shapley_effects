{
 "cells": [
  {
   "cell_type": "markdown",
   "metadata": {},
   "source": [
    "# Simulate variance if variance is hard to obtain analytically\n",
    "Simulate variance for additive model of section 3.4 in Iooss and Prieur (2019)."
   ]
  },
  {
   "cell_type": "code",
   "execution_count": 1,
   "metadata": {},
   "outputs": [],
   "source": [
    "# Import modules.\n",
    "\n",
    "import chaospy as cp\n",
    "import numpy as np"
   ]
  },
  {
   "cell_type": "code",
   "execution_count": 9,
   "metadata": {},
   "outputs": [],
   "source": [
    "# Set up statistical environment.\n",
    "var_1 = 5\n",
    "var_2 = 1\n",
    "var_3 = 1\n",
    "rho = - 0.1\n",
    "\n",
    "# X_1 and X_3 are correlated.\n",
    "covariance = rho * np.sqrt(var_1) * np.sqrt(var_3)\n",
    "\n",
    "cov = np.array(\n",
    "    [[var_1, 0, covariance],\n",
    "    [0, var_2, 0],\n",
    "    [covariance, 0, var_3]]\n",
    "    )\n",
    "\n",
    "n_inputs = 3\n",
    "mean = np.zeros(n_inputs)"
   ]
  },
  {
   "cell_type": "code",
   "execution_count": 10,
   "metadata": {},
   "outputs": [],
   "source": [
    "# Define the model.\n",
    "def additive_model(x):\n",
    "    return x[:, 0] + x[:, 1] * x[:, 2]"
   ]
  },
  {
   "cell_type": "code",
   "execution_count": 11,
   "metadata": {},
   "outputs": [],
   "source": [
    "# Function for sampling from normal distribution.\n",
    "def x_all(n):\n",
    "    return cp.MvNormal(mean, cov).sample(n)"
   ]
  },
  {
   "cell_type": "code",
   "execution_count": 12,
   "metadata": {},
   "outputs": [
    {
     "data": {
      "text/plain": [
       "array([1, 2, 3, 4])"
      ]
     },
     "execution_count": 12,
     "metadata": {},
     "output_type": "execute_result"
    }
   ],
   "source": [
    "# Check function.\n",
    "x = np.array([\n",
    "    [1, 1, 1],\n",
    "    [2, 2, 2],\n",
    "    [3, 3, 3],\n",
    "    [4, 4, 4]\n",
    "])\n",
    "x[:,0]"
   ]
  },
  {
   "cell_type": "code",
   "execution_count": 13,
   "metadata": {},
   "outputs": [],
   "source": [
    "# Initialize model inputs for evaluating the additive model.\n",
    "n_sim = 10 ** 6\n",
    "model_inputs = np.zeros((n_sim, n_inputs),)\n",
    "np.random.seed(123)\n",
    "model_inputs[:n_sim, :] = x_all(n_sim).T"
   ]
  },
  {
   "cell_type": "code",
   "execution_count": 14,
   "metadata": {},
   "outputs": [
    {
     "name": "stdout",
     "output_type": "stream",
     "text": [
      "float64 \n",
      " (1000000,)\n"
     ]
    }
   ],
   "source": [
    "# Calculate the output Y.\n",
    "output = additive_model(model_inputs)\n",
    "print(output.dtype, \"\\n\", output.shape)"
   ]
  },
  {
   "cell_type": "code",
   "execution_count": 15,
   "metadata": {},
   "outputs": [
    {
     "name": "stdout",
     "output_type": "stream",
     "text": [
      "5.984381450945596 \n",
      " float64\n"
     ]
    }
   ],
   "source": [
    "var_y = np.var(output)\n",
    "print(var_y, '\\n', var_y.dtype)"
   ]
  },
  {
   "cell_type": "code",
   "execution_count": null,
   "metadata": {},
   "outputs": [],
   "source": []
  },
  {
   "cell_type": "markdown",
   "metadata": {},
   "source": [
    "Analytical variance for the model $Y = X_1 + X_2 + X_3$: $$Var[Y] = \\sum_{j=1}^2 \\sigma_j^2 + 2 * \\rho * \\sigma_1^{2} * \\sigma_2^{2}$$"
   ]
  },
  {
   "cell_type": "code",
   "execution_count": null,
   "metadata": {},
   "outputs": [],
   "source": []
  }
 ],
 "metadata": {
  "kernelspec": {
   "display_name": "Python 3",
   "language": "python",
   "name": "python3"
  },
  "language_info": {
   "codemirror_mode": {
    "name": "ipython",
    "version": 3
   },
   "file_extension": ".py",
   "mimetype": "text/x-python",
   "name": "python",
   "nbconvert_exporter": "python",
   "pygments_lexer": "ipython3",
   "version": "3.8.3"
  }
 },
 "nbformat": 4,
 "nbformat_minor": 4
}
