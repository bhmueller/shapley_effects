{
 "cells": [
  {
   "cell_type": "markdown",
   "metadata": {},
   "source": [
    "# Plot Shapley effects against $N_O$ while keeping $N_V$ and $N_I$ constant at $10^{7}$ and $3$ respectively.\n",
    "Since n_inputs is small, choose exact method (draw all permutations)."
   ]
  },
  {
   "cell_type": "code",
   "execution_count": 8,
   "metadata": {},
   "outputs": [],
   "source": [
    "import numpy as np\n",
    "import pandas as pd"
   ]
  },
  {
   "cell_type": "markdown",
   "metadata": {},
   "source": [
    "## Define function inputs."
   ]
  },
  {
   "cell_type": "code",
   "execution_count": null,
   "metadata": {},
   "outputs": [],
   "source": [
    "def linear_model(x):\n",
    "    return x.dot(beta)"
   ]
  },
  {
   "cell_type": "markdown",
   "metadata": {},
   "source": [
    "## Define function that returns Shapley effects for a range of $N_O$. "
   ]
  },
  {
   "cell_type": "code",
   "execution_count": null,
   "metadata": {},
   "outputs": [],
   "source": [
    "def range_shapley_estimates(n_inputs, model, beta, cov, n_output, n_inner, n_output_range):\n",
    "    '''Function for plotting estimates of Shapley effects for inputs sampled from MV normal distribution.\n",
    "    \n",
    "    Args:\n",
    "    n_inputs (int): Number of input variables.\n",
    "    model (str): Model to calculate the Shapley effects for.\n",
    "    beta (array): Model parameters.\n",
    "    cov (ndaray): Variance-covariance matrix of model inputs.\n",
    "    n_ouput (int): Number of samples drawn for the estimation of the output variance (= model variance).\n",
    "    n_inner (int): Number of samples drawn for the estimation of the conditional variance.\n",
    "    n_outer_range (list): Array of numbers of samples drawn for the estimation of the conditional variance.\n",
    "    \n",
    "    Returns:\n",
    "    estimated_shapleys (ndarray): The estimated Shapley effects for each element in n_outer_range. Dimensions of the \n",
    "    ndarray are (n_inputs, n_outer_range).\n",
    "    true_shapley (array): Analytical Shapley effects.\n",
    "    '''\n",
    "\n",
    "\n",
    "    def x_all(n):\n",
    "        return cp.MvNormal(mean, cov).sample(n)\n",
    "\n",
    "    def x_cond(n, subset_j, subsetj_conditional, xjc):\n",
    "        if subsetj_conditional is None:\n",
    "            cov_int = np.array(cov).take(subset_j, axis=1)[subset_j]\n",
    "            distribution = cp.MvNormal(mean[subset_j], cov_int)\n",
    "            return distribution.sample(n)\n",
    "        else:\n",
    "            return _r_condmvn(\n",
    "                n,\n",
    "                mean=mean,\n",
    "                cov=cov,\n",
    "                dependent_ind=subset_j,\n",
    "                given_ind=subsetj_conditional,\n",
    "                x_given=xjc,\n",
    "            )\n",
    "\n",
    "    \n",
    "    if model==linear_model:\n",
    "        \n",
    "        if n_inputs==2:\n",
    "            beta_1 = beta[0]\n",
    "            beta_2 = beta[1]\n",
    "            var_1 = cov[0, 0]\n",
    "            var_2 = cov[1, 1]\n",
    "            rho = (cov[0, 1])/(np.sqrt(var_1) * np.sqrt(var_2))\n",
    "    \n",
    "            component_1 = beta_1 ** 2 * var_1\n",
    "            component_2 = beta_2 ** 2 * var_2\n",
    "            covariance = cov[0, 1]\n",
    "            var_y = component_1 + 2 * covariance * beta_1 * beta_2 + component_2\n",
    "            share = 0.5 * (rho**2)\n",
    "            true_shapley_1 = (component_1 * (1 - share) + covariance * beta_1 * beta_2 + component_2 * share)/var_y\n",
    "            true_shapley_2 = (component_2 * (1 - share) + covariance * beta_1 * beta_2 + component_1 * share)/var_y\n",
    "            \n",
    "        elif n_inputs==3:\n",
    "            var_1 = cov[0, 0]\n",
    "            var_2 = cov[1, 1]\n",
    "            var_3 = cov[2, 2]\n",
    "            rho = (cov[1, 2])/(np.sqrt(var_2) * np.sqrt(var_3))\n",
    "            covariance = cov[1, 2]\n",
    "            beta_1 = beta[0]\n",
    "            beta_2 = beta[1]\n",
    "            beta_3 = beta[2]\n",
    "\n",
    "            component_1 = beta_1 ** 2 * var_1\n",
    "            component_2 = beta_2 ** 2 * var_2\n",
    "            component_3 = beta_3 ** 2 * var_3\n",
    "            var_y = component_1 + component_2 + component_3 + 2 * covariance * beta_2 * beta_3\n",
    "            share = 0.5 * (rho**2)\n",
    "            true_shapley_1 = (component_1)/var_y\n",
    "            true_shapley_2 = (component_2 + covariance * beta_2 * beta_3 + share * (component_3 - component_2))/var_y\n",
    "            true_shapley_3 = (component_3 + covariance * beta_2 * beta_3 + share * (component_2 - component_3))/var_y\n",
    "        else:\n",
    "            print('Error: in linear case, function defined for two or three inputs only.')\n",
    "            \n",
    "    elif model==additive_model:\n",
    "            var_1 = cov[0, 0]\n",
    "            var_2 = cov[1, 1]\n",
    "            var_3 = cov[2, 2]\n",
    "            rho = (cov[0, 1])/(np.sqrt(var_1) * np.sqrt(var_3))\n",
    "            covariance = cov[0, 2]\n",
    "            # Variance obtained analytically by myself.\n",
    "            var_y = var_1 + var_2 * var_3\n",
    "    \n",
    "            true_shapley_1 = ((var_1 * (1 - ((rho ** 2) / 2))) + (((var_2 * var_3) * (rho ** 2)) / 6)) / var_y\n",
    "            true_shapley_2 = (((var_2 * var_3) * (3 + (rho ** 2))) / 6) / var_y\n",
    "            true_shapley_3 = (((var_1 * (rho ** 2)) / 2) + (((var_2 * var_3) * (3 - (2 * (rho ** 2)))) / 6)) / var_y\n",
    "        \n",
    "    np.random.seed(123)\n",
    "    mean = np.zeros(n_inputs)\n",
    "    method = \"exact\"\n",
    "\n",
    "    col = [\"X\" + str(i) for i in np.arange(n_inputs) + 1]\n",
    "    names = [\"Shapley effects\", \"std. errors\", \"CI_min\", \"CI_max\"]\n",
    "\n",
    "    expected = pd.DataFrame(\n",
    "        data=[\n",
    "            [true_shapley_1, true_shapley_2],\n",
    "            [0, 0],\n",
    "            [true_shapley_1, true_shapley_2],\n",
    "            [true_shapley_1, true_shapley_2],\n",
    "        ],\n",
    "        index=names,\n",
    "        columns=col,\n",
    "    ).T\n",
    "\n",
    "    calculated = get_shapley(\n",
    "        method,\n",
    "        linear_model,\n",
    "        x_all,\n",
    "        x_cond,\n",
    "        n_perms,\n",
    "        n_inputs,\n",
    "        n_output,\n",
    "        n_outer,\n",
    "        n_inner,\n",
    "    )"
   ]
  },
  {
   "cell_type": "code",
   "execution_count": 4,
   "metadata": {},
   "outputs": [],
   "source": [
    "var_1 = 16\n",
    "var_2 = 4\n",
    "rho = 0.3\n",
    "covariance = rho * np.sqrt(var_1) * np.sqrt(var_2)\n",
    "cov = np.array(\n",
    "    [[var_1, covariance],\n",
    "    [covariance, var_2]]\n",
    "    )"
   ]
  },
  {
   "cell_type": "markdown",
   "metadata": {},
   "source": [
    "## Plot against $N_O$ and mark analytical Shapley effects."
   ]
  },
  {
   "cell_type": "code",
   "execution_count": null,
   "metadata": {},
   "outputs": [],
   "source": []
  }
 ],
 "metadata": {
  "kernelspec": {
   "display_name": "Python 3",
   "language": "python",
   "name": "python3"
  },
  "language_info": {
   "codemirror_mode": {
    "name": "ipython",
    "version": 3
   },
   "file_extension": ".py",
   "mimetype": "text/x-python",
   "name": "python",
   "nbconvert_exporter": "python",
   "pygments_lexer": "ipython3",
   "version": "3.8.3"
  }
 },
 "nbformat": 4,
 "nbformat_minor": 4
}
