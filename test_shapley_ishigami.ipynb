{
 "cells": [
  {
   "cell_type": "markdown",
   "metadata": {},
   "source": [
    "## Tests for Ishigami function\n",
    "Exact permutation. Analytical Shapley values obtained from Plischke, Rabitti, and Borgonovo (2020), p. 8. Inputs are independent."
   ]
  },
  {
   "cell_type": "code",
   "execution_count": 1,
   "metadata": {},
   "outputs": [],
   "source": [
    "import numpy as np\n",
    "import pandas as pd\n",
    "import chaospy as cp\n",
    "import math\n",
    "from numpy.testing import assert_array_almost_equal as aaae\n",
    "\n",
    "from econsa_shapley import get_shapley\n",
    "from econsa_shapley import _r_condmvn\n",
    "from econsa_sampling import cond_mvn"
   ]
  },
  {
   "cell_type": "code",
   "execution_count": 2,
   "metadata": {},
   "outputs": [],
   "source": [
    "# What does x_cond from the test cases spit out?\n",
    "def x_cond_linda(n, subset_j, subsetj_conditional, xjc):\n",
    "    if subsetj_conditional is None:\n",
    "        cov_int = np.array(cov)  # Get an array from cov.\n",
    "        cov_int = cov_int.take(subset_j, axis=1)  # Take only columns/rows (depending on axis) that correspond to the indices\n",
    "        #provided by subset_j.\n",
    "        cov_int = cov_int[subset_j]\n",
    "        distribution = cp.MvNormal(mean[subset_j], cov_int)  # Take mean only for indices in sj.\n",
    "        return distribution.sample(n)\n",
    "    else:\n",
    "        return _r_condmvn(\n",
    "            n,\n",
    "            mean=mean,\n",
    "            cov=cov,\n",
    "            dependent_ind=subset_j,\n",
    "            given_ind=subsetj_conditional,\n",
    "            x_given=xjc,\n",
    "            )\n",
    "    "
   ]
  },
  {
   "cell_type": "code",
   "execution_count": 3,
   "metadata": {},
   "outputs": [],
   "source": [
    "def test_get_shapley_ishigami():\n",
    "    def ishigami_function(x):\n",
    "        return math.sin(x[:, 1]) * (1 + 0.1 * (x[:, 3] ** 4)) + 7 * (math.sin(x[:, 2]) ** 2)\n",
    "\n",
    "    def x_all(n):\n",
    "        distribution = cp.Iid(cp.Uniform(lower, upper), n_inputs)\n",
    "        return distribution.sample(n)\n",
    "\n",
    "\n",
    "    np.random.seed(123)\n",
    "    n_inputs = 3\n",
    "    mean = np.zeros(3)\n",
    "    # Lower and upper bound of the uniform distribution.\n",
    "    lower = -math.pi\n",
    "    upper = math.pi\n",
    "    variance = (1/12) * ((upper - lower) ** 2)\n",
    "    cov = np.array([[1.0, 0, 0], [0, 1.0, 1.8], [0, 1.8, 4.0]])\n",
    "    method = \"exact\"\n",
    "    n_perms = None\n",
    "    n_output = 10 ** 4\n",
    "    n_outer = 10 ** 3\n",
    "    n_inner = 10 ** 2\n",
    "\n",
    "    col = [\"X\" + str(i) for i in np.arange(n_inputs) + 1]\n",
    "    names = [\"Shapley effects\", \"std. errors\", \"CI_min\", \"CI_max\"]\n",
    "\n",
    "    expected = pd.DataFrame(\n",
    "        data=[\n",
    "            [0.4358, 0.4424, 0.1218],\n",
    "            [0., 0., 0.],\n",
    "            [0., 0., 0.],\n",
    "            [0., 0., 0.],\n",
    "        ],\n",
    "        index=names,\n",
    "        columns=col,\n",
    "    ).T\n",
    "\n",
    "    calculated = get_shapley(\n",
    "        method,\n",
    "        gaussian_model,\n",
    "        x_all,\n",
    "        x_cond,\n",
    "        n_perms,\n",
    "        n_inputs,\n",
    "        n_output,\n",
    "        n_outer,\n",
    "        n_inner,\n",
    "    )\n",
    "\n",
    "    aaae(calculated['Shapley effects'], expected['Shapley effects'])"
   ]
  },
  {
   "cell_type": "markdown",
   "metadata": {},
   "source": [
    "### Get Shapley values for the model with the Ishigami function. "
   ]
  },
  {
   "cell_type": "code",
   "execution_count": 4,
   "metadata": {},
   "outputs": [],
   "source": [
    "# Number of permutations will be k! if the exact method is applied.\n",
    "n_inputs = 3\n",
    "n_output = 10 ** 4\n",
    "n_outer = 10 ** 3\n",
    "n_inner = 10 ** 2\n",
    "n_perms = math.factorial(n_inputs)"
   ]
  },
  {
   "cell_type": "code",
   "execution_count": 58,
   "metadata": {},
   "outputs": [],
   "source": [
    "model_inputs = np.array([[1, 2, 3,],\n",
    "                        [4, 5, 7],\n",
    "                        [3, 1, 6],\n",
    "                        [4, 3, 2]])"
   ]
  },
  {
   "cell_type": "code",
   "execution_count": 25,
   "metadata": {},
   "outputs": [
    {
     "name": "stdout",
     "output_type": "stream",
     "text": [
      "1\n",
      "4\n",
      "3\n",
      "4\n"
     ]
    }
   ],
   "source": [
    "for i in model_inputs:\n",
    "    out = i[0]\n",
    "    print(out)"
   ]
  },
  {
   "cell_type": "code",
   "execution_count": null,
   "metadata": {},
   "outputs": [],
   "source": [
    "def ishigami_with_np_sin(x):\n",
    "    "
   ]
  },
  {
   "cell_type": "code",
   "execution_count": 61,
   "metadata": {},
   "outputs": [],
   "source": [
    "def ishigami_function_draft(x):\n",
    "    n_samples = len(model_inputs)  # n_samples needs to be long enough! See shapley.py for dim.s!\n",
    "    out = np.zeros((n_samples, 1))\n",
    "    for i in range(n_samples):\n",
    "        x_1 = x[i, 0]\n",
    "        x_2 = x[i, 1]\n",
    "        x_3 = x[i, 2]\n",
    "        out[i, :] = math.sin(x_1) * (1 + 0.1 * (x_3 ** 4)) + 7 * (math.sin(x_2) ** 2)\n",
    "    np.array([your_function(i) for i in x])\n",
    "    return out"
   ]
  },
  {
   "cell_type": "code",
   "execution_count": 62,
   "metadata": {},
   "outputs": [
    {
     "data": {
      "text/plain": [
       "array([[  13.44513863],\n",
       "       [-176.02833127],\n",
       "       [  23.38678698],\n",
       "       [  -1.82828249]])"
      ]
     },
     "execution_count": 62,
     "metadata": {},
     "output_type": "execute_result"
    }
   ],
   "source": [
    "ishigami_function_draft(model_inputs)"
   ]
  },
  {
   "cell_type": "code",
   "execution_count": 11,
   "metadata": {},
   "outputs": [],
   "source": [
    "def x_all(n):\n",
    "    distribution = cp.Iid(cp.Uniform(lower, upper), n_inputs)\n",
    "    return distribution.sample(n)"
   ]
  },
  {
   "cell_type": "code",
   "execution_count": 112,
   "metadata": {},
   "outputs": [],
   "source": [
    "def ishigami_function(x):\n",
    "    def execute_ishigami(a, b, c):\n",
    "        out = np.sin(a) * (1 + 0.1 * (c ** 4)) + 7 * (np.sin(b) ** 2)\n",
    "        return out\n",
    "    out_2 = execute_ishigami(*x.T)\n",
    "    return out_2"
   ]
  },
  {
   "cell_type": "code",
   "execution_count": 113,
   "metadata": {},
   "outputs": [
    {
     "data": {
      "text/plain": [
       "array([  13.44513863, -176.02833127,   23.38678698,   -1.82828249])"
      ]
     },
     "execution_count": 113,
     "metadata": {},
     "output_type": "execute_result"
    }
   ],
   "source": [
    "ishigami_function(model_inputs)"
   ]
  },
  {
   "cell_type": "code",
   "execution_count": 110,
   "metadata": {},
   "outputs": [],
   "source": [
    "def execute_ishigami_draft(a, b, c):\n",
    "        out = np.sin(a) * (1 + 0.1 * (c ** 4)) + 7 * (np.sin(b) ** 2)\n",
    "        return out"
   ]
  },
  {
   "cell_type": "code",
   "execution_count": 111,
   "metadata": {},
   "outputs": [
    {
     "data": {
      "text/plain": [
       "array([  13.44513863, -176.02833127,   23.38678698,   -1.82828249])"
      ]
     },
     "execution_count": 111,
     "metadata": {},
     "output_type": "execute_result"
    }
   ],
   "source": [
    "execute_ishigami_draft(*model_inputs.T)"
   ]
  },
  {
   "cell_type": "code",
   "execution_count": 104,
   "metadata": {},
   "outputs": [],
   "source": [
    "def x_cond(n, subset_j, subsetj_conditional, xjc):\n",
    "        distribution = cp.Iid(cp.Uniform(lower, upper), len(subset_j))\n",
    "        return distribution.sample(n)"
   ]
  },
  {
   "cell_type": "code",
   "execution_count": 126,
   "metadata": {},
   "outputs": [],
   "source": [
    "exact_shapley = 3\n",
    "n_output = 10 ** 6\n",
    "n_outer = 10 ** 5\n",
    "n_inner = 10 ** 2\n",
    "lower = -np.pi\n",
    "upper = np.pi\n",
    "method = 'exact'\n",
    "np.random.seed(1234)\n",
    "n_perms = None"
   ]
  },
  {
   "cell_type": "code",
   "execution_count": 127,
   "metadata": {},
   "outputs": [
    {
     "name": "stdout",
     "output_type": "stream",
     "text": [
      "Wall time: 46min 58s\n"
     ]
    }
   ],
   "source": [
    "%%time\n",
    "exact_shapley = get_shapley(method, ishigami_function, x_all, x_cond, n_perms, n_inputs, n_output, n_outer, n_inner)"
   ]
  },
  {
   "cell_type": "code",
   "execution_count": 128,
   "metadata": {},
   "outputs": [
    {
     "data": {
      "text/html": [
       "<div>\n",
       "<style scoped>\n",
       "    .dataframe tbody tr th:only-of-type {\n",
       "        vertical-align: middle;\n",
       "    }\n",
       "\n",
       "    .dataframe tbody tr th {\n",
       "        vertical-align: top;\n",
       "    }\n",
       "\n",
       "    .dataframe thead th {\n",
       "        text-align: right;\n",
       "    }\n",
       "</style>\n",
       "<table border=\"1\" class=\"dataframe\">\n",
       "  <thead>\n",
       "    <tr style=\"text-align: right;\">\n",
       "      <th></th>\n",
       "      <th>Shapley effects</th>\n",
       "      <th>std. errors</th>\n",
       "      <th>CI_min</th>\n",
       "      <th>CI_max</th>\n",
       "    </tr>\n",
       "  </thead>\n",
       "  <tbody>\n",
       "    <tr>\n",
       "      <th>X1</th>\n",
       "      <td>0.435551</td>\n",
       "      <td>0.049788</td>\n",
       "      <td>0.337967</td>\n",
       "      <td>0.533135</td>\n",
       "    </tr>\n",
       "    <tr>\n",
       "      <th>X2</th>\n",
       "      <td>0.444085</td>\n",
       "      <td>0.001330</td>\n",
       "      <td>0.441478</td>\n",
       "      <td>0.446692</td>\n",
       "    </tr>\n",
       "    <tr>\n",
       "      <th>X3</th>\n",
       "      <td>0.120364</td>\n",
       "      <td>0.050314</td>\n",
       "      <td>0.021748</td>\n",
       "      <td>0.218980</td>\n",
       "    </tr>\n",
       "  </tbody>\n",
       "</table>\n",
       "</div>"
      ],
      "text/plain": [
       "    Shapley effects  std. errors    CI_min    CI_max\n",
       "X1         0.435551     0.049788  0.337967  0.533135\n",
       "X2         0.444085     0.001330  0.441478  0.446692\n",
       "X3         0.120364     0.050314  0.021748  0.218980"
      ]
     },
     "execution_count": 128,
     "metadata": {},
     "output_type": "execute_result"
    }
   ],
   "source": [
    "exact_shapley"
   ]
  },
  {
   "cell_type": "code",
   "execution_count": 125,
   "metadata": {},
   "outputs": [
    {
     "data": {
      "text/html": [
       "<div>\n",
       "<style scoped>\n",
       "    .dataframe tbody tr th:only-of-type {\n",
       "        vertical-align: middle;\n",
       "    }\n",
       "\n",
       "    .dataframe tbody tr th {\n",
       "        vertical-align: top;\n",
       "    }\n",
       "\n",
       "    .dataframe thead th {\n",
       "        text-align: right;\n",
       "    }\n",
       "</style>\n",
       "<table border=\"1\" class=\"dataframe\">\n",
       "  <thead>\n",
       "    <tr style=\"text-align: right;\">\n",
       "      <th></th>\n",
       "      <th>Shapley effects</th>\n",
       "      <th>std. errors</th>\n",
       "      <th>CI_min</th>\n",
       "      <th>CI_max</th>\n",
       "    </tr>\n",
       "  </thead>\n",
       "  <tbody>\n",
       "    <tr>\n",
       "      <th>X1</th>\n",
       "      <td>0.432367</td>\n",
       "      <td>0.048797</td>\n",
       "      <td>0.336724</td>\n",
       "      <td>0.528010</td>\n",
       "    </tr>\n",
       "    <tr>\n",
       "      <th>X2</th>\n",
       "      <td>0.443831</td>\n",
       "      <td>0.000970</td>\n",
       "      <td>0.441929</td>\n",
       "      <td>0.445732</td>\n",
       "    </tr>\n",
       "    <tr>\n",
       "      <th>X3</th>\n",
       "      <td>0.123802</td>\n",
       "      <td>0.048919</td>\n",
       "      <td>0.027920</td>\n",
       "      <td>0.219684</td>\n",
       "    </tr>\n",
       "  </tbody>\n",
       "</table>\n",
       "</div>"
      ],
      "text/plain": [
       "    Shapley effects  std. errors    CI_min    CI_max\n",
       "X1         0.432367     0.048797  0.336724  0.528010\n",
       "X2         0.443831     0.000970  0.441929  0.445732\n",
       "X3         0.123802     0.048919  0.027920  0.219684"
      ]
     },
     "execution_count": 125,
     "metadata": {},
     "output_type": "execute_result"
    }
   ],
   "source": [
    "exact_shapley  # 4 Min, N_O = 10^5"
   ]
  },
  {
   "cell_type": "code",
   "execution_count": 117,
   "metadata": {},
   "outputs": [
    {
     "data": {
      "text/html": [
       "<div>\n",
       "<style scoped>\n",
       "    .dataframe tbody tr th:only-of-type {\n",
       "        vertical-align: middle;\n",
       "    }\n",
       "\n",
       "    .dataframe tbody tr th {\n",
       "        vertical-align: top;\n",
       "    }\n",
       "\n",
       "    .dataframe thead th {\n",
       "        text-align: right;\n",
       "    }\n",
       "</style>\n",
       "<table border=\"1\" class=\"dataframe\">\n",
       "  <thead>\n",
       "    <tr style=\"text-align: right;\">\n",
       "      <th></th>\n",
       "      <th>Shapley effects</th>\n",
       "      <th>std. errors</th>\n",
       "      <th>CI_min</th>\n",
       "      <th>CI_max</th>\n",
       "    </tr>\n",
       "  </thead>\n",
       "  <tbody>\n",
       "    <tr>\n",
       "      <th>X1</th>\n",
       "      <td>0.433179</td>\n",
       "      <td>0.048947</td>\n",
       "      <td>0.337243</td>\n",
       "      <td>0.529116</td>\n",
       "    </tr>\n",
       "    <tr>\n",
       "      <th>X2</th>\n",
       "      <td>0.446127</td>\n",
       "      <td>0.003176</td>\n",
       "      <td>0.439902</td>\n",
       "      <td>0.452351</td>\n",
       "    </tr>\n",
       "    <tr>\n",
       "      <th>X3</th>\n",
       "      <td>0.120694</td>\n",
       "      <td>0.050359</td>\n",
       "      <td>0.021991</td>\n",
       "      <td>0.219397</td>\n",
       "    </tr>\n",
       "  </tbody>\n",
       "</table>\n",
       "</div>"
      ],
      "text/plain": [
       "    Shapley effects  std. errors    CI_min    CI_max\n",
       "X1         0.433179     0.048947  0.337243  0.529116\n",
       "X2         0.446127     0.003176  0.439902  0.452351\n",
       "X3         0.120694     0.050359  0.021991  0.219397"
      ]
     },
     "execution_count": 117,
     "metadata": {},
     "output_type": "execute_result"
    }
   ],
   "source": [
    "exact_shapley"
   ]
  },
  {
   "cell_type": "code",
   "execution_count": 120,
   "metadata": {},
   "outputs": [],
   "source": [
    "effetti_shapley_analitici = [0.4358, 0.4424, 0.1218]"
   ]
  },
  {
   "cell_type": "code",
   "execution_count": null,
   "metadata": {},
   "outputs": [],
   "source": []
  }
 ],
 "metadata": {
  "kernelspec": {
   "display_name": "Python 3",
   "language": "python",
   "name": "python3"
  },
  "language_info": {
   "codemirror_mode": {
    "name": "ipython",
    "version": 3
   },
   "file_extension": ".py",
   "mimetype": "text/x-python",
   "name": "python",
   "nbconvert_exporter": "python",
   "pygments_lexer": "ipython3",
   "version": "3.8.3"
  }
 },
 "nbformat": 4,
 "nbformat_minor": 4
}
