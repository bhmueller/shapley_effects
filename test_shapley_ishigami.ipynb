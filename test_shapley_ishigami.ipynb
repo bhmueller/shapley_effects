{
 "cells": [
  {
   "cell_type": "markdown",
   "metadata": {},
   "source": [
    "## Tests for Ishigami function\n",
    "Exact permutation. Analytical Shapley values obtained from Plischke, Rabitti, and Borgonovo (2020), p. 8. Inputs are independent."
   ]
  },
  {
   "cell_type": "code",
   "execution_count": 1,
   "metadata": {},
   "outputs": [],
   "source": [
    "import numpy as np\n",
    "import pandas as pd\n",
    "import chaospy as cp\n",
    "from numpy.testing import assert_array_almost_equal as aaae\n",
    "\n",
    "from econsa_shapley import get_shapley\n",
    "from econsa_shapley import _r_condmvn\n",
    "from econsa_sampling import cond_mvn"
   ]
  },
  {
   "cell_type": "code",
   "execution_count": 81,
   "metadata": {},
   "outputs": [
    {
     "data": {
      "text/plain": [
       "array([[1., 0., 0., 0., 0., 0., 0.],\n",
       "       [0., 1., 0., 0., 0., 0., 0.],\n",
       "       [0., 0., 1., 0., 0., 0., 0.],\n",
       "       [0., 0., 0., 1., 0., 0., 0.],\n",
       "       [0., 0., 0., 0., 1., 0., 0.],\n",
       "       [0., 0., 0., 0., 0., 1., 0.],\n",
       "       [0., 0., 0., 0., 0., 0., 1.]])"
      ]
     },
     "execution_count": 81,
     "metadata": {},
     "output_type": "execute_result"
    }
   ],
   "source": [
    "# Function inputs.\n",
    "n_inputs = 7\n",
    "perms = np.random.permutation(n_inputs)\n",
    "j = 4\n",
    "subset_j = perms[:j]\n",
    "subsetj_conditional = perms[j:]\n",
    "mean = np.zeros(n_inputs)\n",
    "cov = np.identity(n_inputs)\n",
    "cov"
   ]
  },
  {
   "cell_type": "code",
   "execution_count": 82,
   "metadata": {},
   "outputs": [
    {
     "data": {
      "text/plain": [
       "array([[-0.44109489, -0.43804072, -0.19616541,  0.11204452],\n",
       "       [-0.75655787, -1.85433115,  0.35997685, -2.0784411 ],\n",
       "       [ 1.01969651,  1.83732029, -0.99752845,  0.69722418],\n",
       "       [ 0.2742608 ,  0.18682276,  0.29409172, -0.62021494],\n",
       "       [ 0.42377777, -0.72768265, -0.95456416,  0.80159265],\n",
       "       [-0.48690291, -0.57972813, -0.70220058,  0.76191355],\n",
       "       [ 0.30159425,  0.11761762, -0.86000833, -0.68097673],\n",
       "       [-0.83248662,  0.28567526,  1.5261132 ,  1.27037114],\n",
       "       [-0.88631203, -0.94830386, -0.67047187,  0.31163852],\n",
       "       [ 0.80705216,  0.42154777, -0.39314096, -1.12634342]])"
      ]
     },
     "execution_count": 82,
     "metadata": {},
     "output_type": "execute_result"
    }
   ],
   "source": [
    "# What does x_cond from the test cases spit out?\n",
    "def x_cond(n, subset_j, subsetj_conditional, xjc):\n",
    "    if subsetj_conditional is None:\n",
    "        cov_int = np.array(cov)  # Get an array from cov.\n",
    "        cov_int = cov_int.take(subset_j, axis=1)  # Take only columns/rows (depending on axis) that correspond to the indices\n",
    "        #provided by subset_j.\n",
    "        cov_int = cov_int[subset_j]\n",
    "        distribution = cp.MvNormal(mean[subset_j], cov_int)\n",
    "        return distribution.sample(n)\n",
    "    else:\n",
    "        return _r_condmvn(\n",
    "            n,\n",
    "            mean=mean,\n",
    "            cov=cov,\n",
    "            dependent_ind=subset_j,\n",
    "            given_ind=subsetj_conditional,\n",
    "            x_given=xjc,\n",
    "            )\n",
    "    \n",
    "n_outer = 10\n",
    "xjc_sampled = np.array(x_cond(n_outer, subset_j=subset_j, subsetj_conditional=None, xjc=None)).T\n",
    "xjc_sampled"
   ]
  },
  {
   "cell_type": "code",
   "execution_count": 83,
   "metadata": {},
   "outputs": [
    {
     "ename": "ValueError",
     "evalue": "lengths of given_value and given_ind must be the same",
     "output_type": "error",
     "traceback": [
      "\u001b[1;31m---------------------------------------------------------------------------\u001b[0m",
      "\u001b[1;31mValueError\u001b[0m                                Traceback (most recent call last)",
      "\u001b[1;32m<ipython-input-83-1029f9404784>\u001b[0m in \u001b[0;36m<module>\u001b[1;34m\u001b[0m\n\u001b[0;32m     14\u001b[0m         \u001b[0mxjc\u001b[0m \u001b[1;33m=\u001b[0m \u001b[0mxjc_sampled\u001b[0m\u001b[1;33m[\u001b[0m\u001b[0mlength\u001b[0m\u001b[1;33m,\u001b[0m \u001b[1;33m]\u001b[0m\u001b[1;33m\u001b[0m\u001b[1;33m\u001b[0m\u001b[0m\n\u001b[0;32m     15\u001b[0m \u001b[1;33m\u001b[0m\u001b[0m\n\u001b[1;32m---> 16\u001b[1;33m         \u001b[0msample_inputs\u001b[0m \u001b[1;33m=\u001b[0m \u001b[0mnp\u001b[0m\u001b[1;33m.\u001b[0m\u001b[0marray\u001b[0m\u001b[1;33m(\u001b[0m\u001b[0mx_cond\u001b[0m\u001b[1;33m(\u001b[0m\u001b[0mn_inner\u001b[0m\u001b[1;33m,\u001b[0m \u001b[0msj\u001b[0m\u001b[1;33m,\u001b[0m \u001b[0msjc\u001b[0m\u001b[1;33m,\u001b[0m \u001b[0mxjc\u001b[0m\u001b[1;33m.\u001b[0m\u001b[0mflat\u001b[0m\u001b[1;33m)\u001b[0m\u001b[1;33m)\u001b[0m\u001b[1;33m.\u001b[0m\u001b[0mT\u001b[0m\u001b[1;33m.\u001b[0m\u001b[0mreshape\u001b[0m\u001b[1;33m(\u001b[0m\u001b[0mn_inner\u001b[0m\u001b[1;33m,\u001b[0m \u001b[1;33m-\u001b[0m\u001b[1;36m1\u001b[0m\u001b[1;33m,\u001b[0m\u001b[1;33m)\u001b[0m\u001b[1;33m\u001b[0m\u001b[1;33m\u001b[0m\u001b[0m\n\u001b[0m",
      "\u001b[1;32m<ipython-input-82-3292fe1cf54e>\u001b[0m in \u001b[0;36mx_cond\u001b[1;34m(n, subset_j, subsetj_conditional, xjc)\u001b[0m\n\u001b[0;32m      9\u001b[0m         \u001b[1;32mreturn\u001b[0m \u001b[0mdistribution\u001b[0m\u001b[1;33m.\u001b[0m\u001b[0msample\u001b[0m\u001b[1;33m(\u001b[0m\u001b[0mn\u001b[0m\u001b[1;33m)\u001b[0m\u001b[1;33m\u001b[0m\u001b[1;33m\u001b[0m\u001b[0m\n\u001b[0;32m     10\u001b[0m     \u001b[1;32melse\u001b[0m\u001b[1;33m:\u001b[0m\u001b[1;33m\u001b[0m\u001b[1;33m\u001b[0m\u001b[0m\n\u001b[1;32m---> 11\u001b[1;33m         return _r_condmvn(\n\u001b[0m\u001b[0;32m     12\u001b[0m             \u001b[0mn\u001b[0m\u001b[1;33m,\u001b[0m\u001b[1;33m\u001b[0m\u001b[1;33m\u001b[0m\u001b[0m\n\u001b[0;32m     13\u001b[0m             \u001b[0mmean\u001b[0m\u001b[1;33m=\u001b[0m\u001b[0mmean\u001b[0m\u001b[1;33m,\u001b[0m\u001b[1;33m\u001b[0m\u001b[1;33m\u001b[0m\u001b[0m\n",
      "\u001b[1;32m~\\Masterarbeit\\shapley_effects\\econsa_shapley.py\u001b[0m in \u001b[0;36m_r_condmvn\u001b[1;34m(n, mean, cov, dependent_ind, given_ind, x_given)\u001b[0m\n\u001b[0;32m    227\u001b[0m \u001b[1;33m\u001b[0m\u001b[0m\n\u001b[0;32m    228\u001b[0m     \"\"\"\n\u001b[1;32m--> 229\u001b[1;33m     cond_mean, cond_var = cond_mvn(\n\u001b[0m\u001b[0;32m    230\u001b[0m         \u001b[0mmean\u001b[0m\u001b[1;33m,\u001b[0m\u001b[1;33m\u001b[0m\u001b[1;33m\u001b[0m\u001b[0m\n\u001b[0;32m    231\u001b[0m         \u001b[0mcov\u001b[0m\u001b[1;33m,\u001b[0m\u001b[1;33m\u001b[0m\u001b[1;33m\u001b[0m\u001b[0m\n",
      "\u001b[1;32m~\\Masterarbeit\\shapley_effects\\econsa_sampling.py\u001b[0m in \u001b[0;36mcond_mvn\u001b[1;34m(mean, cov, dependent_ind, given_ind, given_value, check_cov)\u001b[0m\n\u001b[0;32m     94\u001b[0m     \u001b[1;31m# `given_value` is empty.\u001b[0m\u001b[1;33m\u001b[0m\u001b[1;33m\u001b[0m\u001b[1;33m\u001b[0m\u001b[0m\n\u001b[0;32m     95\u001b[0m     \u001b[1;32mif\u001b[0m \u001b[0mlen\u001b[0m\u001b[1;33m(\u001b[0m\u001b[0mgiven_value_np\u001b[0m\u001b[1;33m)\u001b[0m \u001b[1;33m!=\u001b[0m \u001b[0mlen\u001b[0m\u001b[1;33m(\u001b[0m\u001b[0mgiven_ind_np\u001b[0m\u001b[1;33m)\u001b[0m\u001b[1;33m:\u001b[0m\u001b[1;33m\u001b[0m\u001b[1;33m\u001b[0m\u001b[0m\n\u001b[1;32m---> 96\u001b[1;33m         \u001b[1;32mraise\u001b[0m \u001b[0mValueError\u001b[0m\u001b[1;33m(\u001b[0m\u001b[1;34m\"lengths of given_value and given_ind must be the same\"\u001b[0m\u001b[1;33m)\u001b[0m\u001b[1;33m\u001b[0m\u001b[1;33m\u001b[0m\u001b[0m\n\u001b[0m\u001b[0;32m     97\u001b[0m \u001b[1;33m\u001b[0m\u001b[0m\n\u001b[0;32m     98\u001b[0m     \u001b[0mb\u001b[0m \u001b[1;33m=\u001b[0m \u001b[0mcov_np\u001b[0m\u001b[1;33m[\u001b[0m\u001b[0mdependent_ind_np\u001b[0m\u001b[1;33m,\u001b[0m \u001b[1;33m:\u001b[0m\u001b[1;33m]\u001b[0m\u001b[1;33m[\u001b[0m\u001b[1;33m:\u001b[0m\u001b[1;33m,\u001b[0m \u001b[0mdependent_ind_np\u001b[0m\u001b[1;33m]\u001b[0m\u001b[1;33m\u001b[0m\u001b[1;33m\u001b[0m\u001b[0m\n",
      "\u001b[1;31mValueError\u001b[0m: lengths of given_value and given_ind must be the same"
     ]
    }
   ],
   "source": [
    "n_inner = 10\n",
    "#n_inputs = 7\n",
    "mean = np.zeros(n_inputs)\n",
    "cov = np.identity(n_inputs)\n",
    "\n",
    "for j in range(1, n_inputs):\n",
    "    \n",
    "    perms = np.random.permutation(n_inputs)\n",
    "    j = 4\n",
    "    sj = perms[:j]\n",
    "    sjc = perms[j:]\n",
    "    for length in range(1, n_outer):\n",
    "        \n",
    "        xjc = xjc_sampled[length, ]\n",
    "        \n",
    "        sample_inputs = np.array(x_cond(n_inner, sj, sjc, xjc.flat)).T.reshape(n_inner, -1,)"
   ]
  },
  {
   "cell_type": "code",
   "execution_count": 78,
   "metadata": {},
   "outputs": [
    {
     "data": {
      "text/plain": [
       "array([[-2.83754094,  1.06031703, -0.93791004,  0.25151254],\n",
       "       [-0.54452563,  0.78519974, -0.14471513, -0.16336214],\n",
       "       [-0.8596926 , -1.46110175,  1.64818679, -0.24599251],\n",
       "       [-0.59044271, -1.42073883, -0.18828122, -0.19149145]])"
      ]
     },
     "execution_count": 78,
     "metadata": {},
     "output_type": "execute_result"
    }
   ],
   "source": [
    "sample_inputs"
   ]
  },
  {
   "cell_type": "code",
   "execution_count": 69,
   "metadata": {},
   "outputs": [
    {
     "data": {
      "text/plain": [
       "array([[1., 0., 0., 0., 0., 0., 0., 0.],\n",
       "       [0., 1., 0., 0., 0., 0., 0., 0.],\n",
       "       [0., 0., 1., 0., 0., 0., 0., 0.],\n",
       "       [0., 0., 0., 1., 0., 0., 0., 0.],\n",
       "       [0., 0., 0., 0., 1., 0., 0., 0.],\n",
       "       [0., 0., 0., 0., 0., 1., 0., 0.],\n",
       "       [0., 0., 0., 0., 0., 0., 1., 0.],\n",
       "       [0., 0., 0., 0., 0., 0., 0., 1.]])"
      ]
     },
     "execution_count": 69,
     "metadata": {},
     "output_type": "execute_result"
    }
   ],
   "source": [
    "cov = np.identity(n_inputs)\n",
    "cov_int = np.array(cov)\n",
    "cov_int"
   ]
  },
  {
   "cell_type": "code",
   "execution_count": 70,
   "metadata": {},
   "outputs": [
    {
     "data": {
      "text/plain": [
       "array([0, 1, 2, 6])"
      ]
     },
     "execution_count": 70,
     "metadata": {},
     "output_type": "execute_result"
    }
   ],
   "source": [
    "subset_j"
   ]
  },
  {
   "cell_type": "code",
   "execution_count": 71,
   "metadata": {},
   "outputs": [
    {
     "data": {
      "text/plain": [
       "array([[1., 0., 0., 0.],\n",
       "       [0., 1., 0., 0.],\n",
       "       [0., 0., 1., 0.],\n",
       "       [0., 0., 0., 0.],\n",
       "       [0., 0., 0., 0.],\n",
       "       [0., 0., 0., 0.],\n",
       "       [0., 0., 0., 1.],\n",
       "       [0., 0., 0., 0.]])"
      ]
     },
     "execution_count": 71,
     "metadata": {},
     "output_type": "execute_result"
    }
   ],
   "source": [
    "cov_int = cov_int.take(subset_j, axis=1)\n",
    "cov_int"
   ]
  },
  {
   "cell_type": "code",
   "execution_count": 72,
   "metadata": {},
   "outputs": [
    {
     "data": {
      "text/plain": [
       "array([[1., 0., 0., 0.],\n",
       "       [0., 1., 0., 0.],\n",
       "       [0., 0., 1., 0.],\n",
       "       [0., 0., 0., 1.]])"
      ]
     },
     "execution_count": 72,
     "metadata": {},
     "output_type": "execute_result"
    }
   ],
   "source": [
    "cov_int = cov_int[subset_j]\n",
    "cov_int"
   ]
  },
  {
   "cell_type": "code",
   "execution_count": 73,
   "metadata": {},
   "outputs": [],
   "source": [
    "distribution = cp.MvNormal(mean[subset_j], cov_int)"
   ]
  },
  {
   "cell_type": "code",
   "execution_count": 74,
   "metadata": {},
   "outputs": [
    {
     "data": {
      "text/plain": [
       "array([[ 0.06172266,  0.48953322, -0.72340657],\n",
       "       [-0.56113574,  1.70222466, -0.03065108],\n",
       "       [ 1.11076468,  0.36046205, -1.37229961],\n",
       "       [ 2.3194623 ,  0.64655772, -1.22032668]])"
      ]
     },
     "execution_count": 74,
     "metadata": {},
     "output_type": "execute_result"
    }
   ],
   "source": [
    "distribution.sample(3)"
   ]
  },
  {
   "cell_type": "code",
   "execution_count": 7,
   "metadata": {},
   "outputs": [
    {
     "ename": "ValueError",
     "evalue": "lengths of given_value and given_ind must be the same",
     "output_type": "error",
     "traceback": [
      "\u001b[1;31m---------------------------------------------------------------------------\u001b[0m",
      "\u001b[1;31mValueError\u001b[0m                                Traceback (most recent call last)",
      "\u001b[1;32m<ipython-input-7-10f0218e3133>\u001b[0m in \u001b[0;36m<module>\u001b[1;34m\u001b[0m\n\u001b[0;32m      1\u001b[0m \u001b[0mn_inner\u001b[0m \u001b[1;33m=\u001b[0m \u001b[1;36m4\u001b[0m\u001b[1;33m\u001b[0m\u001b[1;33m\u001b[0m\u001b[0m\n\u001b[1;32m----> 2\u001b[1;33m \u001b[0mtest_\u001b[0m \u001b[1;33m=\u001b[0m \u001b[0mx_cond\u001b[0m\u001b[1;33m(\u001b[0m\u001b[0mn_inner\u001b[0m\u001b[1;33m,\u001b[0m \u001b[0msubset_j\u001b[0m\u001b[1;33m,\u001b[0m \u001b[0msubsetj_conditional\u001b[0m\u001b[1;33m,\u001b[0m \u001b[0mxjc\u001b[0m\u001b[1;33m.\u001b[0m\u001b[0mflat\u001b[0m\u001b[1;33m)\u001b[0m\u001b[1;33m\u001b[0m\u001b[1;33m\u001b[0m\u001b[0m\n\u001b[0m\u001b[0;32m      3\u001b[0m \u001b[1;31m#sample_inputs = np.array(x_cond(n_inner, subset_j, subsetj_conditional, xjc.flat)).T.reshape(n_inner, -1, )\u001b[0m\u001b[1;33m\u001b[0m\u001b[1;33m\u001b[0m\u001b[1;33m\u001b[0m\u001b[0m\n\u001b[0;32m      4\u001b[0m \u001b[1;31m#sample_inputs\u001b[0m\u001b[1;33m\u001b[0m\u001b[1;33m\u001b[0m\u001b[1;33m\u001b[0m\u001b[0m\n",
      "\u001b[1;32m<ipython-input-5-421358bc8ac8>\u001b[0m in \u001b[0;36mx_cond\u001b[1;34m(n, subset_j, subsetj_conditional, xjc)\u001b[0m\n\u001b[0;32m      8\u001b[0m         \u001b[1;32mreturn\u001b[0m \u001b[0mdistribution\u001b[0m\u001b[1;33m.\u001b[0m\u001b[0msample\u001b[0m\u001b[1;33m(\u001b[0m\u001b[0mn\u001b[0m\u001b[1;33m)\u001b[0m\u001b[1;33m\u001b[0m\u001b[1;33m\u001b[0m\u001b[0m\n\u001b[0;32m      9\u001b[0m     \u001b[1;32melse\u001b[0m\u001b[1;33m:\u001b[0m\u001b[1;33m\u001b[0m\u001b[1;33m\u001b[0m\u001b[0m\n\u001b[1;32m---> 10\u001b[1;33m         return _r_condmvn(\n\u001b[0m\u001b[0;32m     11\u001b[0m             \u001b[0mn\u001b[0m\u001b[1;33m,\u001b[0m\u001b[1;33m\u001b[0m\u001b[1;33m\u001b[0m\u001b[0m\n\u001b[0;32m     12\u001b[0m             \u001b[0mmean\u001b[0m\u001b[1;33m=\u001b[0m\u001b[0mmean\u001b[0m\u001b[1;33m,\u001b[0m\u001b[1;33m\u001b[0m\u001b[1;33m\u001b[0m\u001b[0m\n",
      "\u001b[1;32m~\\Masterarbeit\\shapley_effects\\econsa_shapley.py\u001b[0m in \u001b[0;36m_r_condmvn\u001b[1;34m(n, mean, cov, dependent_ind, given_ind, x_given)\u001b[0m\n\u001b[0;32m    227\u001b[0m \u001b[1;33m\u001b[0m\u001b[0m\n\u001b[0;32m    228\u001b[0m     \"\"\"\n\u001b[1;32m--> 229\u001b[1;33m     cond_mean, cond_var = cond_mvn(\n\u001b[0m\u001b[0;32m    230\u001b[0m         \u001b[0mmean\u001b[0m\u001b[1;33m,\u001b[0m\u001b[1;33m\u001b[0m\u001b[1;33m\u001b[0m\u001b[0m\n\u001b[0;32m    231\u001b[0m         \u001b[0mcov\u001b[0m\u001b[1;33m,\u001b[0m\u001b[1;33m\u001b[0m\u001b[1;33m\u001b[0m\u001b[0m\n",
      "\u001b[1;32m~\\Masterarbeit\\shapley_effects\\econsa_sampling.py\u001b[0m in \u001b[0;36mcond_mvn\u001b[1;34m(mean, cov, dependent_ind, given_ind, given_value, check_cov)\u001b[0m\n\u001b[0;32m     94\u001b[0m     \u001b[1;31m# `given_value` is empty.\u001b[0m\u001b[1;33m\u001b[0m\u001b[1;33m\u001b[0m\u001b[1;33m\u001b[0m\u001b[0m\n\u001b[0;32m     95\u001b[0m     \u001b[1;32mif\u001b[0m \u001b[0mlen\u001b[0m\u001b[1;33m(\u001b[0m\u001b[0mgiven_value_np\u001b[0m\u001b[1;33m)\u001b[0m \u001b[1;33m!=\u001b[0m \u001b[0mlen\u001b[0m\u001b[1;33m(\u001b[0m\u001b[0mgiven_ind_np\u001b[0m\u001b[1;33m)\u001b[0m\u001b[1;33m:\u001b[0m\u001b[1;33m\u001b[0m\u001b[1;33m\u001b[0m\u001b[0m\n\u001b[1;32m---> 96\u001b[1;33m         \u001b[1;32mraise\u001b[0m \u001b[0mValueError\u001b[0m\u001b[1;33m(\u001b[0m\u001b[1;34m\"lengths of given_value and given_ind must be the same\"\u001b[0m\u001b[1;33m)\u001b[0m\u001b[1;33m\u001b[0m\u001b[1;33m\u001b[0m\u001b[0m\n\u001b[0m\u001b[0;32m     97\u001b[0m \u001b[1;33m\u001b[0m\u001b[0m\n\u001b[0;32m     98\u001b[0m     \u001b[0mb\u001b[0m \u001b[1;33m=\u001b[0m \u001b[0mcov_np\u001b[0m\u001b[1;33m[\u001b[0m\u001b[0mdependent_ind_np\u001b[0m\u001b[1;33m,\u001b[0m \u001b[1;33m:\u001b[0m\u001b[1;33m]\u001b[0m\u001b[1;33m[\u001b[0m\u001b[1;33m:\u001b[0m\u001b[1;33m,\u001b[0m \u001b[0mdependent_ind_np\u001b[0m\u001b[1;33m]\u001b[0m\u001b[1;33m\u001b[0m\u001b[1;33m\u001b[0m\u001b[0m\n",
      "\u001b[1;31mValueError\u001b[0m: lengths of given_value and given_ind must be the same"
     ]
    }
   ],
   "source": [
    "n_inner = 4\n",
    "test_ = x_cond(n_inner, subset_j, subsetj_conditional, xjc.flat)\n",
    "#sample_inputs = np.array(x_cond(n_inner, subset_j, subsetj_conditional, xjc.flat)).T.reshape(n_inner, -1, )\n",
    "#sample_inputs"
   ]
  },
  {
   "cell_type": "code",
   "execution_count": 13,
   "metadata": {},
   "outputs": [
    {
     "ename": "NameError",
     "evalue": "name 'dependent_ind' is not defined",
     "output_type": "error",
     "traceback": [
      "\u001b[1;31m---------------------------------------------------------------------------\u001b[0m",
      "\u001b[1;31mNameError\u001b[0m                                 Traceback (most recent call last)",
      "\u001b[1;32m<ipython-input-13-0e5558d1bb8a>\u001b[0m in \u001b[0;36m<module>\u001b[1;34m\u001b[0m\n\u001b[0;32m      2\u001b[0m     \u001b[0mmean\u001b[0m\u001b[1;33m,\u001b[0m\u001b[1;33m\u001b[0m\u001b[1;33m\u001b[0m\u001b[0m\n\u001b[0;32m      3\u001b[0m     \u001b[0mcov\u001b[0m\u001b[1;33m,\u001b[0m\u001b[1;33m\u001b[0m\u001b[1;33m\u001b[0m\u001b[0m\n\u001b[1;32m----> 4\u001b[1;33m     \u001b[0mdependent_ind\u001b[0m\u001b[1;33m=\u001b[0m\u001b[0mdependent_ind\u001b[0m\u001b[1;33m,\u001b[0m\u001b[1;33m\u001b[0m\u001b[1;33m\u001b[0m\u001b[0m\n\u001b[0m\u001b[0;32m      5\u001b[0m     \u001b[0mgiven_ind\u001b[0m\u001b[1;33m=\u001b[0m\u001b[0mgiven_ind\u001b[0m\u001b[1;33m,\u001b[0m\u001b[1;33m\u001b[0m\u001b[1;33m\u001b[0m\u001b[0m\n\u001b[0;32m      6\u001b[0m     \u001b[0mgiven_value\u001b[0m\u001b[1;33m=\u001b[0m\u001b[0mx_given\u001b[0m\u001b[1;33m,\u001b[0m\u001b[1;33m\u001b[0m\u001b[1;33m\u001b[0m\u001b[0m\n",
      "\u001b[1;31mNameError\u001b[0m: name 'dependent_ind' is not defined"
     ]
    }
   ],
   "source": [
    "    cond_mean, cond_var = cond_mvn(\n",
    "        mean,\n",
    "        cov,\n",
    "        dependent_ind=dependent_ind,\n",
    "        given_ind=given_ind,\n",
    "        given_value=x_given,\n",
    "    )\n",
    "    distribution = cp.MvNormal(cond_mean, cond_var)\n",
    "\n",
    "    return distribution.sample(n)"
   ]
  },
  {
   "cell_type": "code",
   "execution_count": null,
   "metadata": {},
   "outputs": [],
   "source": [
    "def test_get_shapley_ishigami():\n",
    "    def ishigami_function(x):\n",
    "        return math.sin(x[:, 1]) * (1 + 0.1 * (x[:, 3] ** 4)) + 7 * (math.sin(x[:, 2]) ** 2)\n",
    "\n",
    "    def x_all(n):\n",
    "        distribution = cp.Uniform(lower, upper)\n",
    "        return distribution.sample(n)\n",
    "\n",
    "    def x_cond(n, subset_j, subsetj_conditional, xjc):\n",
    "        \n",
    "        # Wrong, since we need samples for the variables corresponding to the indices in sj(c)!\n",
    "        if subsetj_conditional is None:\n",
    "            \n",
    "            distribution = cp.Uniform(lower, upper)\n",
    "        return distribution.sample(n)\n",
    "            return # ndarray with dim n_sim x no. of elements in subset_j, exactly for those input variables.\n",
    "        else:\n",
    "            return # ndarray  with dim n_sim x no. of elements in subsetj_conditional.\n",
    "\n",
    "    np.random.seed(123)\n",
    "    n_inputs = 3\n",
    "    mean = np.zeros(3)\n",
    "    # Lower and upper bound of the uniform distribution.\n",
    "    lower = -math.pi\n",
    "    upper = math.pi\n",
    "    variance = (1/12) * ((upper - lower) ** 2)\n",
    "    cov = np.array([[1.0, 0, 0], [0, 1.0, 1.8], [0, 1.8, 4.0]])\n",
    "    method = \"exact\"\n",
    "    n_perms = None\n",
    "    n_output = 10 ** 4\n",
    "    n_outer = 10 ** 3\n",
    "    n_inner = 10 ** 2\n",
    "\n",
    "    col = [\"X\" + str(i) for i in np.arange(n_inputs) + 1]\n",
    "    names = [\"Shapley effects\", \"std. errors\", \"CI_min\", \"CI_max\"]\n",
    "\n",
    "    expected = pd.DataFrame(\n",
    "        data=[\n",
    "            [0.101309, 0.418989, 0.479701],\n",
    "            [0.00241549, 0.16297, 0.163071],\n",
    "            [0.096575, 0.0995681, 0.160083],\n",
    "            [0.106044, 0.73841, 0.79932],\n",
    "        ],\n",
    "        index=names,\n",
    "        columns=col,\n",
    "    ).T\n",
    "\n",
    "    calculated = get_shapley(\n",
    "        method,\n",
    "        gaussian_model,\n",
    "        x_all,\n",
    "        x_cond,\n",
    "        n_perms,\n",
    "        n_inputs,\n",
    "        n_output,\n",
    "        n_outer,\n",
    "        n_inner,\n",
    "    )\n",
    "\n",
    "    aaae(calculated, expected)"
   ]
  },
  {
   "cell_type": "code",
   "execution_count": 21,
   "metadata": {},
   "outputs": [
    {
     "data": {
      "text/plain": [
       "array([[0.38377533, 0.        , 0.27999478, 0.        , 0.        ,\n",
       "        0.47232937, 0.55148138],\n",
       "       [0.16606031, 0.        , 0.49768564, 0.        , 0.        ,\n",
       "        0.43442878, 0.46587021],\n",
       "       [0.85391958, 0.        , 0.50341559, 0.        , 0.        ,\n",
       "        0.36058198, 0.2781392 ],\n",
       "       [0.53300291, 0.        , 0.50630399, 0.        , 0.        ,\n",
       "        0.52169385, 0.53213383],\n",
       "       [0.91287332, 0.        , 0.24418302, 0.        , 0.        ,\n",
       "        0.0477079 , 0.12106805],\n",
       "       [0.70604899, 0.        , 0.68216086, 0.        , 0.        ,\n",
       "        0.84896816, 0.66360917],\n",
       "       [0.57615931, 0.        , 0.23240094, 0.        , 0.        ,\n",
       "        0.59900273, 0.65371224],\n",
       "       [0.99222253, 0.        , 0.48436874, 0.        , 0.        ,\n",
       "        0.73214416, 0.43902138],\n",
       "       [0.02985574, 0.        , 0.72488381, 0.        , 0.        ,\n",
       "        0.63781945, 0.09538967],\n",
       "       [0.00731334, 0.        , 0.94950301, 0.        , 0.        ,\n",
       "        0.25366271, 0.19250218]])"
      ]
     },
     "execution_count": 21,
     "metadata": {},
     "output_type": "execute_result"
    }
   ],
   "source": [
    "# Example.\n",
    "n_inputs = 7\n",
    "n_sim = 10\n",
    "perms = np.random.permutation(n_inputs)\n",
    "j = 4\n",
    "subset_j = perms[:j]\n",
    "subsetj_conditional = perms[j:]\n",
    "lower = 0\n",
    "upper = 1\n",
    "out = np.zeros((n_sim, n_inputs))\n",
    "for i in subset_j:\n",
    "    out[:, i] = cp.Uniform(lower, upper).sample(n_sim).T\n",
    "out"
   ]
  },
  {
   "cell_type": "code",
   "execution_count": 19,
   "metadata": {},
   "outputs": [],
   "source": [
    "def x_cond(n, subset_j, subsetj_conditional, xjc):\n",
    "        distribution = cp.Uniform(lower, upper)\n",
    "        return distribution.sample(n)"
   ]
  },
  {
   "cell_type": "code",
   "execution_count": null,
   "metadata": {},
   "outputs": [],
   "source": [
    "def x_cond(n, subset_j, subsetj_conditional, xjc):\n",
    "        \n",
    "        # Wrong, since we need samples for the variables corresponding to the indices in sj(c)!\n",
    "        if subsetj_conditional is None:\n",
    "            \n",
    "            distribution = cp.Uniform(lower, upper)\n",
    "        return distribution.sample(n)\n",
    "            return # ndarray with dim n_sim x no. of elements in subset_j, exactly for those input variables.\n",
    "        else:\n",
    "            return # ndarray  with dim n_sim x no. of elements in subsetj_conditional."
   ]
  },
  {
   "cell_type": "code",
   "execution_count": null,
   "metadata": {},
   "outputs": [],
   "source": [
    "# Call the function.\n",
    "x_cond(\n",
    "    n=n_sim,\n",
    "    subset_j=subset_j,\n",
    "    subsetj_conditional=subsetj_conditional,\n",
    "    \n",
    "      )"
   ]
  },
  {
   "cell_type": "code",
   "execution_count": null,
   "metadata": {},
   "outputs": [],
   "source": []
  }
 ],
 "metadata": {
  "kernelspec": {
   "display_name": "Python 3",
   "language": "python",
   "name": "python3"
  },
  "language_info": {
   "codemirror_mode": {
    "name": "ipython",
    "version": 3
   },
   "file_extension": ".py",
   "mimetype": "text/x-python",
   "name": "python",
   "nbconvert_exporter": "python",
   "pygments_lexer": "ipython3",
   "version": "3.8.3"
  }
 },
 "nbformat": 4,
 "nbformat_minor": 4
}
