{
 "cells": [
  {
   "cell_type": "markdown",
   "metadata": {},
   "source": [
    "## Tests for Ishigami function\n",
    "Exact permutation. Analytical Shapley values obtained from Plischke, Rabitti, and Borgonovo (2020), p. 8. Inputs are independent."
   ]
  },
  {
   "cell_type": "code",
   "execution_count": 19,
   "metadata": {},
   "outputs": [],
   "source": [
    "def x_cond(n, subset_j, subsetj_conditional, xjc):\n",
    "        distribution = cp.Uniform(lower, upper)\n",
    "        return distribution.sample(n)"
   ]
  },
  {
   "cell_type": "code",
   "execution_count": null,
   "metadata": {},
   "outputs": [],
   "source": []
  },
  {
   "cell_type": "code",
   "execution_count": 21,
   "metadata": {},
   "outputs": [
    {
     "data": {
      "text/plain": [
       "array([[0.38377533, 0.        , 0.27999478, 0.        , 0.        ,\n",
       "        0.47232937, 0.55148138],\n",
       "       [0.16606031, 0.        , 0.49768564, 0.        , 0.        ,\n",
       "        0.43442878, 0.46587021],\n",
       "       [0.85391958, 0.        , 0.50341559, 0.        , 0.        ,\n",
       "        0.36058198, 0.2781392 ],\n",
       "       [0.53300291, 0.        , 0.50630399, 0.        , 0.        ,\n",
       "        0.52169385, 0.53213383],\n",
       "       [0.91287332, 0.        , 0.24418302, 0.        , 0.        ,\n",
       "        0.0477079 , 0.12106805],\n",
       "       [0.70604899, 0.        , 0.68216086, 0.        , 0.        ,\n",
       "        0.84896816, 0.66360917],\n",
       "       [0.57615931, 0.        , 0.23240094, 0.        , 0.        ,\n",
       "        0.59900273, 0.65371224],\n",
       "       [0.99222253, 0.        , 0.48436874, 0.        , 0.        ,\n",
       "        0.73214416, 0.43902138],\n",
       "       [0.02985574, 0.        , 0.72488381, 0.        , 0.        ,\n",
       "        0.63781945, 0.09538967],\n",
       "       [0.00731334, 0.        , 0.94950301, 0.        , 0.        ,\n",
       "        0.25366271, 0.19250218]])"
      ]
     },
     "execution_count": 21,
     "metadata": {},
     "output_type": "execute_result"
    }
   ],
   "source": [
    "# Example.\n",
    "n_inputs = 7\n",
    "n_sim = 10\n",
    "perms = np.random.permutation(n_inputs)\n",
    "j = 4\n",
    "subset_j = perms[:j]\n",
    "subsetj_conditional = perms[j:]\n",
    "lower = 0\n",
    "upper = 1\n",
    "out = np.zeros((n_sim, n_inputs))\n",
    "for i in subset_j:\n",
    "    out[:, i] = cp.Uniform(lower, upper).sample(n_sim).T\n",
    "out"
   ]
  },
  {
   "cell_type": "code",
   "execution_count": null,
   "metadata": {},
   "outputs": [],
   "source": [
    "def x_cond(n, subset_j, subsetj_conditional, xjc):\n",
    "        \n",
    "        # Wrong, since we need samples for the variables corresponding to the indices in sj(c)!\n",
    "        if subsetj_conditional is None:\n",
    "            \n",
    "            distribution = cp.Uniform(lower, upper)\n",
    "        return distribution.sample(n)\n",
    "            return # ndarray with dim n_sim x no. of elements in subset_j, exactly for those input variables.\n",
    "        else:\n",
    "            return # ndarray  with dim n_sim x no. of elements in subsetj_conditional."
   ]
  },
  {
   "cell_type": "code",
   "execution_count": null,
   "metadata": {},
   "outputs": [],
   "source": [
    "# Call the function.\n",
    "x_cond(\n",
    "    n=n_sim,\n",
    "    subset_j=subset_j,\n",
    "    subsetj_conditional=subsetj_conditional,\n",
    "    \n",
    "      )"
   ]
  },
  {
   "cell_type": "code",
   "execution_count": null,
   "metadata": {},
   "outputs": [],
   "source": [
    "def test_get_shapley_ishigami():\n",
    "    def ishigami_function(x):\n",
    "        return math.sin(x[:, 1]) * (1 + 0.1 * (x[:, 3] ** 4)) + 7 * (math.sin(x[:, 2]) ** 2)\n",
    "\n",
    "    def x_all(n):\n",
    "        distribution = cp.Uniform(lower, upper)\n",
    "        return distribution.sample(n)\n",
    "\n",
    "    def x_cond(n, subset_j, subsetj_conditional, xjc):\n",
    "        \n",
    "        # Wrong, since we need samples for the variables corresponding to the indices in sj(c)!\n",
    "        if subsetj_conditional is None:\n",
    "            \n",
    "            distribution = cp.Uniform(lower, upper)\n",
    "        return distribution.sample(n)\n",
    "            return # ndarray with dim n_sim x no. of elements in subset_j, exactly for those input variables.\n",
    "        else:\n",
    "            return # ndarray  with dim n_sim x no. of elements in subsetj_conditional.\n",
    "\n",
    "    np.random.seed(123)\n",
    "    n_inputs = 3\n",
    "    mean = np.zeros(3)\n",
    "    # Lower and upper bound of the uniform distribution.\n",
    "    lower = -math.pi\n",
    "    upper = math.pi\n",
    "    variance = (1/12) * ((upper - lower) ** 2)\n",
    "    cov = np.array([[1.0, 0, 0], [0, 1.0, 1.8], [0, 1.8, 4.0]])\n",
    "    method = \"exact\"\n",
    "    n_perms = None\n",
    "    n_output = 10 ** 4\n",
    "    n_outer = 10 ** 3\n",
    "    n_inner = 10 ** 2\n",
    "\n",
    "    col = [\"X\" + str(i) for i in np.arange(n_inputs) + 1]\n",
    "    names = [\"Shapley effects\", \"std. errors\", \"CI_min\", \"CI_max\"]\n",
    "\n",
    "    expected = pd.DataFrame(\n",
    "        data=[\n",
    "            [0.101309, 0.418989, 0.479701],\n",
    "            [0.00241549, 0.16297, 0.163071],\n",
    "            [0.096575, 0.0995681, 0.160083],\n",
    "            [0.106044, 0.73841, 0.79932],\n",
    "        ],\n",
    "        index=names,\n",
    "        columns=col,\n",
    "    ).T\n",
    "\n",
    "    calculated = get_shapley(\n",
    "        method,\n",
    "        gaussian_model,\n",
    "        x_all,\n",
    "        x_cond,\n",
    "        n_perms,\n",
    "        n_inputs,\n",
    "        n_output,\n",
    "        n_outer,\n",
    "        n_inner,\n",
    "    )\n",
    "\n",
    "    aaae(calculated, expected)"
   ]
  },
  {
   "cell_type": "code",
   "execution_count": null,
   "metadata": {},
   "outputs": [],
   "source": []
  }
 ],
 "metadata": {
  "kernelspec": {
   "display_name": "Python 3",
   "language": "python",
   "name": "python3"
  },
  "language_info": {
   "codemirror_mode": {
    "name": "ipython",
    "version": 3
   },
   "file_extension": ".py",
   "mimetype": "text/x-python",
   "name": "python",
   "nbconvert_exporter": "python",
   "pygments_lexer": "ipython3",
   "version": "3.8.3"
  }
 },
 "nbformat": 4,
 "nbformat_minor": 4
}
